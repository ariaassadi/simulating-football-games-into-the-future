{
 "cells": [
  {
   "cell_type": "code",
   "execution_count": 1,
   "metadata": {},
   "outputs": [],
   "source": [
    "import pandas as pd\n",
    "import numpy as np\n",
    "import os\n",
    "import glob\n",
    "from pathlib import Path\n",
    "\n",
    "# path = \"~/uni/exjobb/data_processing/data\""
   ]
  },
  {
   "cell_type": "code",
   "execution_count": 2,
   "metadata": {},
   "outputs": [
    {
     "name": "stdout",
     "output_type": "stream",
     "text": [
      "/home/oskarrick/uni/exjobb/simulating-football-games-into-the-future/graphics/data_processing/data\n",
      "['/home/oskarrick/uni/exjobb/simulating-football-games-into-the-future/graphics/data_processing/data/003e0803-133b-4f19-b844-6428ead0289c.json', '/home/oskarrick/uni/exjobb/simulating-football-games-into-the-future/graphics/data_processing/data/003e0803-133b-4f19-b844-6428ead0289c_1.json', '/home/oskarrick/uni/exjobb/simulating-football-games-into-the-future/graphics/data_processing/data/003e0803-133b-4f19-b844-6428ead0289c_2.json']\n"
     ]
    }
   ],
   "source": [
    "path = os.getcwd()\n",
    "path = os.path.abspath(os.path.join(path, os.pardir))\n",
    "data_path = path + '/data_processing' + '/data'\n",
    "print(data_path)\n",
    "data_files = glob.glob(os.path.join(data_path, \"*.json\"))\n",
    "data_files.sort()\n",
    "print(data_files)\n"
   ]
  },
  {
   "cell_type": "code",
   "execution_count": 10,
   "metadata": {},
   "outputs": [],
   "source": [
    "bp_iks_file = \"Brommapojkarna_vs_Sirius.parquet\"\n",
    "df_bp_iks = pd.read_parquet(os.path.join(data_path, bp_iks_file))"
   ]
  },
  {
   "cell_type": "code",
   "execution_count": null,
   "metadata": {},
   "outputs": [],
   "source": [
    "df_bp_iks.to_csv(os.path.join(data_path, \"bp_vs_iks.csv\"), index=False)"
   ]
  },
  {
   "cell_type": "code",
   "execution_count": 17,
   "metadata": {},
   "outputs": [],
   "source": [
    "df_bp_iks_cleaned = df_bp_iks.drop(['team', 'team_name', 'role', 'distance_ran', 'events', 'minute','second', 'jersey_number', 'objects_tracked'], inplace=False, axis=1)\n",
    "df_bp_iks_cleaned.to_json(os.path.join(data_path, \"bp_vs_iks.json\"), orient='records', indent=4)"
   ]
  },
  {
   "cell_type": "code",
   "execution_count": 14,
   "metadata": {},
   "outputs": [
    {
     "name": "stdout",
     "output_type": "stream",
     "text": [
      "Index(['team_direction', 'player', 'x', 'y', 'frame', 'period',\n",
      "       'ms_since_start'],\n",
      "      dtype='object')\n"
     ]
    }
   ],
   "source": [
    "print(df_bp_iks_cleaned.columns)"
   ]
  },
  {
   "cell_type": "code",
   "execution_count": 26,
   "metadata": {},
   "outputs": [],
   "source": [
    "df_bp_iks_short = df_bp_iks_cleaned.head(483)"
   ]
  },
  {
   "cell_type": "code",
   "execution_count": 24,
   "metadata": {},
   "outputs": [
    {
     "name": "stdout",
     "output_type": "stream",
     "text": [
      "    team_direction                       player      x      y  frame  period  \\\n",
      "0            right            Samuel Leach Holm  40.67  31.46      0       1   \n",
      "1            right              Ludvig Fritzson  49.97  26.45      0       1   \n",
      "2            right               Richie Omorowa  58.57  42.88      0       1   \n",
      "3            right                André Calisir  34.17  21.92      0       1   \n",
      "4            right              Amadeus Sögaard  34.44  33.60      0       1   \n",
      "..             ...                          ...    ...    ...    ...     ...   \n",
      "495           left    Jakob Voelkerling Persson  45.74  38.26     21       1   \n",
      "496           left                  Adam Vikman  47.59  25.98     21       1   \n",
      "497           left  Marcus Klingenberg Mathisen  40.08  25.41     21       1   \n",
      "498           left               Aron Bjarnason  31.51  42.28     21       1   \n",
      "499           left              Daniel Stensson  58.86  48.27     21       1   \n",
      "\n",
      "     ms_since_start  \n",
      "0                 0  \n",
      "1                 0  \n",
      "2                 0  \n",
      "3                 0  \n",
      "4                 0  \n",
      "..              ...  \n",
      "495             840  \n",
      "496             840  \n",
      "497             840  \n",
      "498             840  \n",
      "499             840  \n",
      "\n",
      "[500 rows x 7 columns]\n"
     ]
    }
   ],
   "source": [
    "print(df_bp_iks_short)"
   ]
  },
  {
   "cell_type": "code",
   "execution_count": 27,
   "metadata": {},
   "outputs": [],
   "source": [
    "df_bp_iks_short.to_json(os.path.join(data_path, \"bp_vs_iks_short.json\"), orient=\"records\", indent=4)"
   ]
  }
 ],
 "metadata": {
  "kernelspec": {
   "display_name": "venv",
   "language": "python",
   "name": "python3"
  },
  "language_info": {
   "codemirror_mode": {
    "name": "ipython",
    "version": 3
   },
   "file_extension": ".py",
   "mimetype": "text/x-python",
   "name": "python",
   "nbconvert_exporter": "python",
   "pygments_lexer": "ipython3",
   "version": "3.10.12"
  }
 },
 "nbformat": 4,
 "nbformat_minor": 2
}
