{
 "cells": [
  {
   "cell_type": "code",
   "execution_count": 1,
   "id": "35312186",
   "metadata": {},
   "outputs": [],
   "source": [
    "%matplotlib inline"
   ]
  },
  {
   "cell_type": "markdown",
   "id": "c078666b",
   "metadata": {},
   "source": [
    "# Notebook for training predictive models\n",
    "### Import packages"
   ]
  },
  {
   "cell_type": "code",
   "execution_count": 2,
   "id": "fa43b454-7b17-42fc-be8a-de1770ba3a30",
   "metadata": {},
   "outputs": [
    {
     "name": "stderr",
     "output_type": "stream",
     "text": [
      "2024-05-08 12:48:39.499096: I tensorflow/core/util/port.cc:104] oneDNN custom operations are on. You may see slightly different numerical results due to floating-point round-off errors from different computation orders. To turn them off, set the environment variable `TF_ENABLE_ONEDNN_OPTS=0`.\n"
     ]
    }
   ],
   "source": [
    "from tensorflow.keras.layers import Input, Embedding, Flatten, Dense, Concatenate\n",
    "from tensorflow.keras.models import load_model as keras_load_model\n",
    "from sklearn.preprocessing import LabelEncoder\n",
    "from sklearn.compose import ColumnTransformer\n",
    "from tensorflow.keras.models import Model\n",
    "from sklearn.pipeline import Pipeline\n",
    "from keras.models import Sequential\n",
    "\n",
    "import tensorflow as tf\n",
    "import pandas as pd\n",
    "import numpy as np\n",
    "import random\n",
    "import glob\n",
    "import os\n",
    "\n",
    "from utils import load_processed_frames, split_match_ids, extract_variables, load_tf_model, evaluate_model, write_testing_error, run_model, test_model, print_column_variance, add_pred_error, add_can_be_sequentialized\n",
    "from visualize_game import visualize_prediction_animation, visualize_game_animation\n",
    "from settings import *"
   ]
  },
  {
   "cell_type": "markdown",
   "id": "b196e924",
   "metadata": {},
   "source": [
    "## Define NAIVE models"
   ]
  },
  {
   "cell_type": "code",
   "execution_count": 3,
   "id": "b1746338",
   "metadata": {},
   "outputs": [],
   "source": [
    "# NAIVE: Always predict that all players will stand still\n",
    "# The calculations are based on x, y\n",
    "def predict_two_seconds_naive_static(frames_df):\n",
    "    frames_df['x_future_pred'] = frames_df['x']\n",
    "    frames_df['y_future_pred'] = frames_df['y']\n",
    "\n",
    "# NAIVE: Always predict that all players will continue with the same velocity\n",
    "# The calculations are based on x, y, v_x, and v_y\n",
    "def predict_two_seconds_naive_velocity(frames_df):\n",
    "    frames_df['x_future_pred'] = frames_df['x'] + frames_df['v_x'] * seconds_into_the_future\n",
    "    frames_df['y_future_pred'] = frames_df['y'] + frames_df['v_y'] * seconds_into_the_future\n",
    "\n",
    "    # Clip values to stay on the pitch\n",
    "    frames_df['x_future_pred'] = frames_df['x_future_pred'].clip(lower=0, upper=pitch_length)\n",
    "    frames_df['y_future_pred'] = frames_df['y_future_pred'].clip(lower=0, upper=pitch_width)\n",
    "\n",
    "    # Smooth the predicted coordinates\n",
    "    smooth_predictions_xy(frames_df, alpha=0.95)\n",
    "\n",
    "# NAIVE: Always predict that all players will continue with the same velocity and acceleration\n",
    "# The calculations are based on x, y, v_x, v_y, a_x, and a_y\n",
    "def predict_two_seconds_naive_acceleration(frames_df):\n",
    "    # Calculate future positions using kinematic equationsnaive_\n",
    "    frames_df['x_future_pred'] = frames_df['x'] + frames_df['v_x'] * seconds_into_the_future + 0.5 * frames_df['a_x'] * (seconds_into_the_future ** 2)\n",
    "    frames_df['y_future_pred'] = frames_df['y'] + frames_df['v_y'] * seconds_into_the_future + 0.5 * frames_df['a_y'] * (seconds_into_the_future ** 2)\n",
    "\n",
    "    # Clip values to stay on the pitch\n",
    "    frames_df['x_future_pred'] = frames_df['x_future_pred'].clip(lower=0, upper=pitch_length)\n",
    "    frames_df['y_future_pred'] = frames_df['y_future_pred'].clip(lower=0, upper=pitch_width)\n",
    "\n",
    "    # Smooth the predicted coordinates\n",
    "    smooth_predictions_xy(frames_df, alpha=0.95)"
   ]
  },
  {
   "cell_type": "markdown",
   "id": "72f24a32",
   "metadata": {},
   "source": [
    "### Helper functions"
   ]
  },
  {
   "cell_type": "code",
   "execution_count": 4,
   "id": "1fca989a",
   "metadata": {},
   "outputs": [],
   "source": [
    "# Find a frame with approximatly the same error as the average_pred_error, with an interval\n",
    "def find_frame_with_average_error(frames_df, average_pred_error, error_margin):\n",
    "    # For all frames\n",
    "    frames = frames_df['frame'].unique()\n",
    "    for frame in frames:\n",
    "        current_error = frames_df[frames_df['frame'] == frame]['pred_error'].mean()\n",
    "        # If the current error is within the error_margin,\n",
    "        if (current_error >= average_pred_error - error_margin) and (current_error <= average_pred_error + error_margin):\n",
    "            # Return the result\n",
    "            return frame\n",
    "\n",
    "    # If no frame was found\n",
    "    print(f\"No frame found within the error margin of {error_margin}\")\n",
    "    return None\n",
    "\n",
    "# Use a naive model to make predictions on a set of games, and calculate the error\n",
    "def predict_and_evaluate_naive_model(naive_model, frames_dfs, include_ball=False, ball_has_to_be_in_motion=True):\n",
    "    # Concatenate the frames DataFrames into a single large DataFrame\n",
    "    frames_concatenated_df = pd.concat(frames_dfs, ignore_index=True)\n",
    "\n",
    "    # Use the custom function to make the predictions\n",
    "    naive_model(frames_concatenated_df)\n",
    "\n",
    "    # Calculate error\n",
    "    error = total_error_loss(frames_concatenated_df, include_ball, ball_has_to_be_in_motion)\n",
    "\n",
    "    return error"
   ]
  },
  {
   "cell_type": "markdown",
   "id": "4863d61c",
   "metadata": {},
   "source": [
    "## Evaulate NAIVE models\n",
    "### Visualize prediction errors"
   ]
  },
  {
   "cell_type": "code",
   "execution_count": 5,
   "id": "3656ce64",
   "metadata": {},
   "outputs": [],
   "source": [
    "# # Visualize the predictions of the naive velocity model in an animation\n",
    "# test_frames_df = train_frames_dfs[3]\n",
    "# predict_two_seconds_naive_static(test_frames_df)\n",
    "# total_error_loss(test_frames_df)\n",
    "# visualize_prediction_animation(test_frames_df, 250, 750, \"naive_static\")"
   ]
  },
  {
   "cell_type": "markdown",
   "id": "aa5e72fe",
   "metadata": {},
   "source": [
    "### Evaulate the NAIVE models with different parameters"
   ]
  },
  {
   "cell_type": "code",
   "execution_count": 6,
   "id": "7ca1231f",
   "metadata": {},
   "outputs": [],
   "source": [
    "# # Define the prediction functions (models) you want to test\n",
    "# prediction_functions = {\n",
    "#     \"Naive Static\": predict_two_seconds_naive_static,\n",
    "#     \"Naive Velocity\": predict_two_seconds_naive_velocity,\n",
    "#     \"Naive Acceleration\": predict_two_seconds_naive_acceleration\n",
    "# }\n",
    "\n",
    "# # Define the combinations of include_ball and ball_has_to_be_in_motion\n",
    "# # combinations = [(True, True), (True, False), (False, True), (False, False)]\n",
    "# combinations = [(False, True)]\n",
    "\n",
    "# # Initialize an empty list to store the results\n",
    "# results = []\n",
    "\n",
    "# # Loop through each combination\n",
    "# for include_ball, ball_has_to_be_in_motion in combinations:\n",
    "#     # Add the combination of parameters\n",
    "#     result = {\"Include Ball\": include_ball, \"Ball in Motion\": ball_has_to_be_in_motion}\n",
    "#     # Loop through each prediction function (model)\n",
    "#     for model_name, predict_function in prediction_functions.items():\n",
    "#         # Calculate error for the current prediction function (model)\n",
    "#         error = predict_and_evaluate_naive_model(predict_function, test_frames_dfs, include_ball, ball_has_to_be_in_motion)\n",
    "#         result[model_name] = error\n",
    "    \n",
    "#     # Append the results to the list\n",
    "#     results.append(result)\n",
    "\n",
    "# # Create a DataFrame from the list of results\n",
    "# results_df = pd.DataFrame(results)\n",
    "\n",
    "# # Print the resulting DataFrame\n",
    "# results_df"
   ]
  },
  {
   "cell_type": "markdown",
   "id": "1ad99574",
   "metadata": {},
   "source": [
    "## Evaluate NN models"
   ]
  },
  {
   "cell_type": "code",
   "execution_count": 8,
   "id": "519f12f0",
   "metadata": {},
   "outputs": [
    {
     "name": "stderr",
     "output_type": "stream",
     "text": [
      "2024-05-08 12:49:31.648982: I tensorflow/core/common_runtime/gpu/gpu_device.cc:1613] Created device /job:localhost/replica:0/task:0/device:GPU:0 with 31133 MB memory:  -> device: 0, name: Tesla V100-SXM2-32GB, pci bus id: 0000:8a:00.0, compute capability: 7.0\n"
     ]
    },
    {
     "name": "stdout",
     "output_type": "stream",
     "text": [
      "WARNING:tensorflow:Compiled the loaded model, but the compiled metrics have yet to be built. `model.compile_metrics` will be empty until you train or evaluate the model.\n"
     ]
    }
   ],
   "source": [
    "# Visualize model prediction\n",
    "def predict_and_visualize(match_ids, model_name, start_frame, end_frame):\n",
    "    # Run model\n",
    "    frames_df = run_model(match_ids, model_name, downsampling_factor_testing=1)\n",
    "    frames_df = add_pred_error(frames_df)\n",
    "\n",
    "    # Visualize predictions with an animation\n",
    "    visualize_prediction_animation(frames_df, start_frame, end_frame, model_name)\n",
    "\n",
    "model_name = 'LSTM_model_v8'\n",
    "test_model(model_name, downsampling_factor_testing=5)\n",
    "\n",
    "test_ids = ['eaa1aee4-1acf-4a74-acdc-016343b231cc']\n",
    "predict_and_visualize(test_ids, model_name, 800, 900)"
   ]
  }
 ],
 "metadata": {
  "kernelspec": {
   "display_name": "My Python",
   "language": "python",
   "name": "my_python"
  },
  "language_info": {
   "codemirror_mode": {
    "name": "ipython",
    "version": 3
   },
   "file_extension": ".py",
   "mimetype": "text/x-python",
   "name": "python",
   "nbconvert_exporter": "python",
   "pygments_lexer": "ipython3",
   "version": "3.10.4"
  }
 },
 "nbformat": 4,
 "nbformat_minor": 5
}
