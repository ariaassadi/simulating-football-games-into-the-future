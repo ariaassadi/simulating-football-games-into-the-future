{
 "cells": [
  {
   "cell_type": "code",
   "execution_count": 1,
   "id": "35312186",
   "metadata": {},
   "outputs": [],
   "source": [
    "%matplotlib inline"
   ]
  },
  {
   "cell_type": "markdown",
   "id": "c078666b",
   "metadata": {},
   "source": [
    "# Notebook for training predictive models\n",
    "### Import packages"
   ]
  },
  {
   "cell_type": "code",
   "execution_count": 2,
   "id": "fa43b454-7b17-42fc-be8a-de1770ba3a30",
   "metadata": {},
   "outputs": [
    {
     "name": "stderr",
     "output_type": "stream",
     "text": [
      "2024-03-25 11:34:14.080779: I tensorflow/core/util/port.cc:104] oneDNN custom operations are on. You may see slightly different numerical results due to floating-point round-off errors from different computation orders. To turn them off, set the environment variable `TF_ENABLE_ONEDNN_OPTS=0`.\n"
     ]
    }
   ],
   "source": [
    "from tensorflow.keras.layers import Input, Embedding, Flatten, Dense, Concatenate\n",
    "from tensorflow.keras.models import load_model as keras_load_model\n",
    "from sklearn.preprocessing import StandardScaler, LabelEncoder\n",
    "from sklearn.compose import ColumnTransformer\n",
    "from tensorflow.keras.models import Model\n",
    "from sklearn.pipeline import Pipeline\n",
    "from keras.models import Sequential\n",
    "\n",
    "import tensorflow as tf\n",
    "import pandas as pd\n",
    "import numpy as np\n",
    "import random\n",
    "import glob\n",
    "import os\n",
    "\n",
    "from utils import load_processed_frames, split_match_ids, get_next_model_filename, euclidean_distance_loss, adjust_for_embeddings\n",
    "from visualize_game import visualize_frame_prediction, visualize_prediction_animation, visualize_game_animation\n",
    "from settings import *"
   ]
  },
  {
   "cell_type": "markdown",
   "id": "f06d4855",
   "metadata": {},
   "source": [
    "### Global variables"
   ]
  },
  {
   "cell_type": "code",
   "execution_count": 3,
   "id": "f65b211e",
   "metadata": {},
   "outputs": [],
   "source": [
    "numerical_cols = ['x', 'y', 'v_x', 'v_y', 'a_x', 'a_y']\n",
    "categorical_cols = ['team_direction', 'role']\n",
    "y_cols = ['x_future', 'y_future']\n",
    "n_matches = 10"
   ]
  },
  {
   "cell_type": "markdown",
   "id": "e59f6979",
   "metadata": {},
   "source": [
    "### Helper functions"
   ]
  },
  {
   "cell_type": "code",
   "execution_count": 4,
   "id": "9ca3207c",
   "metadata": {},
   "outputs": [],
   "source": [
    "# Load a tf model\n",
    "def load_model(model_path, euclidean_distance_loss=False):\n",
    "    try:\n",
    "        # Load the model using Keras's load_model function\n",
    "        if euclidean_distance_loss:\n",
    "            # Define custom_objects dictionary with the custom loss function\n",
    "            custom_objects = {'euclidean_distance_loss': euclidean_distance_loss}\n",
    "            return keras_load_model(model_path, custom_objects=custom_objects) \n",
    "        else:\n",
    "            return keras_load_model(model_path)\n",
    "    \n",
    "    except ValueError as e:\n",
    "        print(e)\n",
    "        return None\n",
    "\n",
    "# Smooth the vectors 'x_future_pred' and 'y_future_pred'\n",
    "def smooth_predictions_xy(frames_df, alpha=0.93):\n",
    "    # Group by unique combinations of 'team', 'jersey_number', and 'match_id'\n",
    "    grouped = frames_df.groupby(['team', 'jersey_number', 'match_id'])\n",
    "    \n",
    "    # Apply the Exponential Moving Average filter to smooth the predictions\n",
    "    def apply_ema(x):\n",
    "        return x.ewm(alpha=alpha, adjust=False).mean()\n",
    "\n",
    "    frames_df['x_future_pred'] = grouped['x_future_pred'].transform(apply_ema)\n",
    "    frames_df['y_future_pred'] = grouped['y_future_pred'].transform(apply_ema)"
   ]
  },
  {
   "cell_type": "markdown",
   "id": "60ef43b7",
   "metadata": {},
   "source": [
    "### Load frames"
   ]
  },
  {
   "cell_type": "code",
   "execution_count": 6,
   "id": "98345c50",
   "metadata": {},
   "outputs": [],
   "source": [
    "# Load every frames_df to a list\n",
    "# frames_dfs = load_processed_frames(n_matches=n_matches)\n",
    "\n",
    "# Create an internal match_id for each game\n",
    "match_ids = range(n_matches)\n",
    "\n",
    "# Split match IDs into train, test, and validation sets\n",
    "train_ids, test_ids, val_ids = split_match_ids(match_ids=match_ids)\n",
    "\n",
    "# Select frames data for training, testing, and validation\n",
    "# train_frames_dfs = [frames_dfs[i] for i in train_ids]\n",
    "# test_frames_dfs = [frames_dfs[i] for i in test_ids]\n",
    "# val_frames_dfs = [frames_dfs[i] for i in val_ids]\n",
    "# test_frames_dfs = [load_processed_frames(match_id=test_id)[0] for test_id in test_ids]\n",
    "test_frames_dfs = load_processed_frames(n_matches=n_matches)"
   ]
  },
  {
   "cell_type": "markdown",
   "id": "b196e924",
   "metadata": {},
   "source": [
    "### Load predictive models"
   ]
  },
  {
   "cell_type": "code",
   "execution_count": 13,
   "id": "b1746338",
   "metadata": {},
   "outputs": [],
   "source": [
    "# NAIVE: Always predict that all players will stand still\n",
    "# The calculations are based on x, y\n",
    "def predict_two_seconds_naive_static(frames_df):\n",
    "    frames_df['x_future_pred'] = frames_df['x']\n",
    "    frames_df['y_future_pred'] = frames_df['y']\n",
    "\n",
    "# NAIVE: Always predict that all players will continue with the same velocity\n",
    "# The calculations are based on x, y, v_x, and v_y\n",
    "def predict_two_seconds_naive_velocity(frames_df):\n",
    "    frames_df['x_future_pred'] = frames_df['x'] + frames_df['v_x'] * seconds_into_the_future\n",
    "    frames_df['y_future_pred'] = frames_df['y'] + frames_df['v_y'] * seconds_into_the_future\n",
    "\n",
    "    # Clip values to stay on the pitch\n",
    "    frames_df['x_future_pred'] = frames_df['x_future_pred'].clip(lower=0, upper=pitch_length)\n",
    "    frames_df['y_future_pred'] = frames_df['y_future_pred'].clip(lower=0, upper=pitch_width)\n",
    "\n",
    "    # Smooth the predicted coordinates\n",
    "    smooth_predictions_xy(frames_df, alpha=0.95)\n",
    "\n",
    "# NAIVE: Always predict that all players will continue with the same velocity and acceleration\n",
    "# The calculations are based on x, y, v_x, v_y, a_x, and a_y\n",
    "def predict_two_seconds_naive_acceleration(frames_df):\n",
    "    # Calculate future positions using kinematic equationsnaive_\n",
    "    frames_df['x_future_pred'] = frames_df['x'] + frames_df['v_x'] * seconds_into_the_future + 0.5 * frames_df['a_x'] * (seconds_into_the_future ** 2)\n",
    "    frames_df['y_future_pred'] = frames_df['y'] + frames_df['v_y'] * seconds_into_the_future + 0.5 * frames_df['a_y'] * (seconds_into_the_future ** 2)\n",
    "\n",
    "    # Clip values to stay on the pitch\n",
    "    frames_df['x_future_pred'] = frames_df['x_future_pred'].clip(lower=0, upper=pitch_length)\n",
    "    frames_df['y_future_pred'] = frames_df['y_future_pred'].clip(lower=0, upper=pitch_width)\n",
    "\n",
    "    # Smooth the predicted coordinates\n",
    "    smooth_predictions_xy(frames_df, alpha=0.95)"
   ]
  },
  {
   "cell_type": "code",
   "execution_count": null,
   "id": "7d9f556f",
   "metadata": {},
   "outputs": [],
   "source": [
    "# Make a prediction with a neural network model\n",
    "def predict_two_seconds_NN_model(frames_dfs, model, X_data):\n",
    "    # Concatenate the frames DataFrames into a single large DataFrame\n",
    "    frames_concatenated_df = pd.concat(frames_dfs, ignore_index=True)\n",
    "\n",
    "    # Make predictions using the loaded tf model\n",
    "    predictions = model.predict(X_data)\n",
    "\n",
    "    # Extract the predicted values\n",
    "    x_future_pred = predictions[:, 0]\n",
    "    y_future_pred = predictions[:, 1]\n",
    "\n",
    "    # Add the predicted values to 'frames_concatenated_df'\n",
    "    frames_concatenated_df['x_future_pred'] = x_future_pred\n",
    "    frames_concatenated_df['y_future_pred'] = y_future_pred\n",
    "\n",
    "    return frames_concatenated_df"
   ]
  },
  {
   "cell_type": "markdown",
   "id": "72f24a32",
   "metadata": {},
   "source": [
    "### Functions for calculating error"
   ]
  },
  {
   "cell_type": "code",
   "execution_count": 8,
   "id": "1fca989a",
   "metadata": {},
   "outputs": [],
   "source": [
    "# Add a column for distance wrongly predicted (in metres) for each object\n",
    "def add_pred_error(frames_df):\n",
    "    # Create a vector with the Eculidian distance between the true position and the predicted position\n",
    "    frames_df['pred_error'] = round(((frames_df['x_future_pred'] - frames_df['x_future'])**2 + (frames_df['y_future_pred'] - frames_df['y_future'])**2)**0.5, 2)\n",
    "    \n",
    "# Add a column for distance wrongly predicted (in metres) for each object. Also return average_pred_error\n",
    "def total_error_loss(frames_df, include_ball=False, ball_has_to_be_in_motion=True):\n",
    "    # Add 'pred_error' column\n",
    "    add_pred_error(frames_df)\n",
    "    \n",
    "    # Create a new column to store modified pred_error values\n",
    "    frames_df['pred_error_tmp'] = frames_df['pred_error']\n",
    "    \n",
    "    # If specified, set pred_error to None for frames where the ball is not in motion\n",
    "    if ball_has_to_be_in_motion:\n",
    "        frames_df.loc[frames_df[\"ball_in_motion\"] != True, 'pred_error_tmp'] = None\n",
    "\n",
    "    # If specified, set pred_error to None for rows where 'team' is 'ball'\n",
    "    if not include_ball:\n",
    "        frames_df.loc[frames_df['team'] == 'ball', 'pred_error_tmp'] = None\n",
    "\n",
    "    # Calculate average pred_error_tmp, excluding rows where pred_error is None\n",
    "    average_pred_error = frames_df['pred_error_tmp'].mean()\n",
    "\n",
    "    # Drop the temporary column\n",
    "    frames_df.drop(columns=['pred_error_tmp'], inplace=True)\n",
    "\n",
    "    return round(average_pred_error, 4)\n",
    "\n",
    "# Calculate the average error for a list of games\n",
    "def calculate_average_error(frames_dfs, predict_function, include_ball, ball_has_to_be_in_motion):\n",
    "    # Predict the future positions\n",
    "    [predict_function(frames_df) for frames_df in frames_dfs]\n",
    "    [add_pred_error(frames_df) for frames_df in frames_dfs]\n",
    "\n",
    "    # Concatenate all frames dataframes into a single dataframe\n",
    "    concatted_frames_df = pd.concat(frames_dfs)    \n",
    "    \n",
    "    # Calculate the total error loss\n",
    "    error = total_error_loss(concatted_frames_df, include_ball, ball_has_to_be_in_motion)\n",
    "    \n",
    "    return error\n",
    "\n",
    "# Find a frame with approximatly the same error as the average_pred_error, with an interval\n",
    "def find_frame_with_average_error(frames_df, average_pred_error, error_margin):\n",
    "    # For all frames\n",
    "    frames = frames_df['frame'].unique()\n",
    "    for frame in frames:\n",
    "        current_error = frames_df[frames_df['frame'] == frame]['pred_error'].mean()\n",
    "        # If the current error is within the error_margin,\n",
    "        if (current_error >= average_pred_error - error_margin) and (current_error <= average_pred_error + error_margin):\n",
    "            # Return the result\n",
    "            return frame\n",
    "\n",
    "    # If no frame was found\n",
    "    print(f\"No frame found within the error margin of {error_margin}\")\n",
    "    return None\n",
    "\n",
    "# Use a model to make predictions on a set of games, and calculate the error\n",
    "def predict_and_evaluate(model, frames_dfs, include_ball=False, ball_has_to_be_in_motion=True):\n",
    "    # Concatenate the frames DataFrames into a single large DataFrame\n",
    "    frames_concatenated_df = pd.concat(frames_dfs, ignore_index=True)\n",
    "\n",
    "    # Use the custom function to make the predictions\n",
    "    model(frames_concatenated_df)\n",
    "\n",
    "    # Calculate error\n",
    "    error = total_error_loss(frames_concatenated_df, include_ball, ball_has_to_be_in_motion)\n",
    "\n",
    "    return error"
   ]
  },
  {
   "cell_type": "markdown",
   "id": "4863d61c",
   "metadata": {},
   "source": [
    "## Evaulate models\n",
    "### Visualize prediction errors"
   ]
  },
  {
   "cell_type": "code",
   "execution_count": null,
   "id": "3656ce64",
   "metadata": {},
   "outputs": [],
   "source": [
    "# # Visualize the predictions of the naive velocity model in an animation\n",
    "# test_frames_df = train_frames_dfs[3]\n",
    "# predict_two_seconds_naive_static(test_frames_df)\n",
    "# total_error_loss(test_frames_df)\n",
    "# visualize_prediction_animation(test_frames_df, 250, 750, \"naive_static\")"
   ]
  },
  {
   "cell_type": "markdown",
   "id": "aa5e72fe",
   "metadata": {},
   "source": [
    "### Evaulate the NAIVE models with different parameters"
   ]
  },
  {
   "cell_type": "code",
   "execution_count": 14,
   "id": "7ca1231f",
   "metadata": {},
   "outputs": [
    {
     "data": {
      "text/html": [
       "<div>\n",
       "<style scoped>\n",
       "    .dataframe tbody tr th:only-of-type {\n",
       "        vertical-align: middle;\n",
       "    }\n",
       "\n",
       "    .dataframe tbody tr th {\n",
       "        vertical-align: top;\n",
       "    }\n",
       "\n",
       "    .dataframe thead th {\n",
       "        text-align: right;\n",
       "    }\n",
       "</style>\n",
       "<table border=\"1\" class=\"dataframe\">\n",
       "  <thead>\n",
       "    <tr style=\"text-align: right;\">\n",
       "      <th></th>\n",
       "      <th>Include Ball</th>\n",
       "      <th>Ball in Motion</th>\n",
       "      <th>Naive Velocity</th>\n",
       "      <th>Naive Acceleration</th>\n",
       "    </tr>\n",
       "  </thead>\n",
       "  <tbody>\n",
       "    <tr>\n",
       "      <th>0</th>\n",
       "      <td>True</td>\n",
       "      <td>True</td>\n",
       "      <td>2.6910</td>\n",
       "      <td>2.6720</td>\n",
       "    </tr>\n",
       "    <tr>\n",
       "      <th>1</th>\n",
       "      <td>True</td>\n",
       "      <td>False</td>\n",
       "      <td>2.3104</td>\n",
       "      <td>2.2966</td>\n",
       "    </tr>\n",
       "    <tr>\n",
       "      <th>2</th>\n",
       "      <td>False</td>\n",
       "      <td>True</td>\n",
       "      <td>2.1372</td>\n",
       "      <td>2.1095</td>\n",
       "    </tr>\n",
       "    <tr>\n",
       "      <th>3</th>\n",
       "      <td>False</td>\n",
       "      <td>False</td>\n",
       "      <td>1.9466</td>\n",
       "      <td>1.9276</td>\n",
       "    </tr>\n",
       "  </tbody>\n",
       "</table>\n",
       "</div>"
      ],
      "text/plain": [
       "   Include Ball  Ball in Motion  Naive Velocity  Naive Acceleration\n",
       "0          True            True          2.6910              2.6720\n",
       "1          True           False          2.3104              2.2966\n",
       "2         False            True          2.1372              2.1095\n",
       "3         False           False          1.9466              1.9276"
      ]
     },
     "execution_count": 14,
     "metadata": {},
     "output_type": "execute_result"
    }
   ],
   "source": [
    "# Define the prediction functions (models) you want to test\n",
    "prediction_functions = {\n",
    "    # \"Naive Static\": predict_two_seconds_naive_static,\n",
    "    \"Naive Velocity\": predict_two_seconds_naive_velocity,\n",
    "    \"Naive Acceleration\": predict_two_seconds_naive_acceleration\n",
    "}\n",
    "\n",
    "# Define the combinations of include_ball and ball_has_to_be_in_motion\n",
    "combinations = [(True, True), (True, False), (False, True), (False, False)]\n",
    "\n",
    "# Initialize an empty list to store the results\n",
    "results = []\n",
    "\n",
    "# Loop through each combination\n",
    "for include_ball, ball_has_to_be_in_motion in combinations:\n",
    "    # Add the combination of parameters\n",
    "    result = {\"Include Ball\": include_ball, \"Ball in Motion\": ball_has_to_be_in_motion}\n",
    "    # Loop through each prediction function (model)\n",
    "    for model_name, predict_function in prediction_functions.items():\n",
    "        # Calculate error for the current prediction function (model)\n",
    "        error = predict_and_evaluate(predict_function, test_frames_dfs, include_ball, ball_has_to_be_in_motion)\n",
    "        result[model_name] = error\n",
    "    \n",
    "    # Append the results to the list\n",
    "    results.append(result)\n",
    "\n",
    "# Create a DataFrame from the list of results\n",
    "results_df = pd.DataFrame(results)\n",
    "\n",
    "# Print the resulting DataFrame\n",
    "results_df"
   ]
  },
  {
   "cell_type": "markdown",
   "id": "1ad99574",
   "metadata": {},
   "source": [
    "### Evaluate non-NAIVE models with parameters"
   ]
  },
  {
   "cell_type": "code",
   "execution_count": 13,
   "id": "29080973",
   "metadata": {},
   "outputs": [
    {
     "name": "stdout",
     "output_type": "stream",
     "text": [
      "WARNING:tensorflow:Compiled the loaded model, but the compiled metrics have yet to be built. `model.compile_metrics` will be empty until you train or evaluate the model.\n"
     ]
    },
    {
     "name": "stderr",
     "output_type": "stream",
     "text": [
      "2024-03-22 12:58:48.583257: I tensorflow/core/common_runtime/gpu/gpu_device.cc:1613] Created device /job:localhost/replica:0/task:0/device:GPU:0 with 38546 MB memory:  -> device: 0, name: NVIDIA A100-SXM4-40GB, pci bus id: 0000:4b:00.0, compute capability: 8.0\n",
      "2024-03-22 12:58:48.583868: I tensorflow/core/common_runtime/gpu/gpu_device.cc:1613] Created device /job:localhost/replica:0/task:0/device:GPU:1 with 38546 MB memory:  -> device: 1, name: NVIDIA A100-SXM4-40GB, pci bus id: 0000:e3:00.0, compute capability: 8.0\n"
     ]
    },
    {
     "name": "stdout",
     "output_type": "stream",
     "text": [
      "   169/402249 [..............................] - ETA: 6:01"
     ]
    },
    {
     "name": "stderr",
     "output_type": "stream",
     "text": [
      "2024-03-22 12:58:52.498103: I tensorflow/compiler/xla/stream_executor/cuda/cuda_blas.cc:630] TensorFloat-32 will be used for the matrix multiplication. This will only be logged once.\n"
     ]
    },
    {
     "name": "stdout",
     "output_type": "stream",
     "text": [
      "402249/402249 [==============================] - 345s 855us/step\n"
     ]
    },
    {
     "data": {
      "text/html": [
       "<div>\n",
       "<style scoped>\n",
       "    .dataframe tbody tr th:only-of-type {\n",
       "        vertical-align: middle;\n",
       "    }\n",
       "\n",
       "    .dataframe tbody tr th {\n",
       "        vertical-align: top;\n",
       "    }\n",
       "\n",
       "    .dataframe thead th {\n",
       "        text-align: right;\n",
       "    }\n",
       "</style>\n",
       "<table border=\"1\" class=\"dataframe\">\n",
       "  <thead>\n",
       "    <tr style=\"text-align: right;\">\n",
       "      <th></th>\n",
       "      <th>Include Ball</th>\n",
       "      <th>Ball in Motion</th>\n",
       "      <th>NN_embedding_model_12</th>\n",
       "    </tr>\n",
       "  </thead>\n",
       "  <tbody>\n",
       "    <tr>\n",
       "      <th>0</th>\n",
       "      <td>True</td>\n",
       "      <td>True</td>\n",
       "      <td>5.17</td>\n",
       "    </tr>\n",
       "    <tr>\n",
       "      <th>1</th>\n",
       "      <td>True</td>\n",
       "      <td>False</td>\n",
       "      <td>5.07</td>\n",
       "    </tr>\n",
       "    <tr>\n",
       "      <th>2</th>\n",
       "      <td>False</td>\n",
       "      <td>True</td>\n",
       "      <td>4.76</td>\n",
       "    </tr>\n",
       "    <tr>\n",
       "      <th>3</th>\n",
       "      <td>False</td>\n",
       "      <td>False</td>\n",
       "      <td>4.79</td>\n",
       "    </tr>\n",
       "  </tbody>\n",
       "</table>\n",
       "</div>"
      ],
      "text/plain": [
       "   Include Ball  Ball in Motion  NN_embedding_model_12\n",
       "0          True            True                   5.17\n",
       "1          True           False                   5.07\n",
       "2         False            True                   4.76\n",
       "3         False           False                   4.79"
      ]
     },
     "execution_count": 13,
     "metadata": {},
     "output_type": "execute_result"
    }
   ],
   "source": [
    "# Define the prediction functions (models) you want to test\n",
    "NN_prediction_functions = {\n",
    "    # \"NN_model_7\": {\"model\": load_model(\"models/NN_model_7.h5\", euclidean_distance_loss=True), \"X_data\": X_test[numerical_cols]},\n",
    "    # \"NN_embedding_model_8\": {\"model\": load_model(\"models/NN_embedding_model_8.h5\", euclidean_distance_loss=True), \"X_data\": X_test_input},\n",
    "    # \"NN_embedding_model_9\": {\"model\": load_model(\"models/NN_embedding_model_9.h5\", euclidean_distance_loss=True), \"X_data\": X_test_input},\n",
    "    # \"NN_embedding_model_10\": {\"model\": load_model(\"models/NN_embedding_model_10.h5\", euclidean_distance_loss=True), \"X_data\": X_test_input},\n",
    "    \"NN_embedding_model_12\": {\"model\": load_model(\"models/NN_embedding_model_12.h5\", euclidean_distance_loss=True), \"X_data\": X_test_input}\n",
    "}\n",
    "\n",
    "# Define the combinations of include_ball and ball_has_to_be_in_motion\n",
    "combinations = [(True, True), (True, False), (False, True), (False, False)]\n",
    "\n",
    "# Initialize an empty list to store the results\n",
    "results = []\n",
    "\n",
    "# Pre-calculate predictions for each model only once\n",
    "predictions_dict = {}\n",
    "for model_name, model_info in NN_prediction_functions.items():\n",
    "    # Make predictions for the current model and store them in the dictionary\n",
    "    predictions_dict[model_name] = predict_two_seconds_NN_model(test_frames_dfs, model_info[\"model\"], model_info[\"X_data\"])\n",
    "\n",
    "# Loop through each combination\n",
    "for include_ball, ball_has_to_be_in_motion in combinations:\n",
    "    # Initialize a result dictionary for the current combination\n",
    "    result = {\"Include Ball\": include_ball, \"Ball in Motion\": ball_has_to_be_in_motion}\n",
    "    \n",
    "    # Calculate and store the error for each model within the same combination\n",
    "    for model_name in NN_prediction_functions.keys():\n",
    "        # Retrieve the pre-calculated predictions for the current model\n",
    "        test_with_predictions_df = predictions_dict[model_name]\n",
    "        # Calculate error\n",
    "        error = total_error_loss(test_with_predictions_df, include_ball, ball_has_to_be_in_motion)\n",
    "        # Store the error in the result dictionary\n",
    "        result[model_name] = error\n",
    "    \n",
    "    # Append the result to the results list\n",
    "    results.append(result)\n",
    "\n",
    "# Create a DataFrame from the list of results\n",
    "results_df = pd.DataFrame(results)\n",
    "\n",
    "# Print the resulting DataFrame\n",
    "results_df"
   ]
  },
  {
   "cell_type": "code",
   "execution_count": 14,
   "id": "0b65f17a",
   "metadata": {},
   "outputs": [],
   "source": [
    "# Visualize the predictions of a NN model in an animation\n",
    "\n",
    "# frames_df = train_frames_dfs[3]\n",
    "\n",
    "# # Fill NaN values with zeros for numerical columns\n",
    "# frames_df[numerical_cols] = frames_df[numerical_cols].fillna(0)\n",
    "\n",
    "# # Drop rows with NaN values in the labels (y)\n",
    "# frames_df.dropna(subset=y_cols, inplace=True)\n",
    "\n",
    "# # Drop rows where 'team' is ball, if specified\n",
    "# frames_df = frames_df[frames_df['team'] != 'ball']\n",
    "\n",
    "# # Drop rows where ball is not in motion, if specified\n",
    "# frames_df = frames_df[frames_df['ball_in_motion']]\n",
    "\n",
    "# # Extract features and labels from group\n",
    "# X_data_df = frames_df[numerical_cols + categorical_cols]\n",
    "# y_data_df = frames_df[y_cols]\n",
    "\n",
    "# # Apply label encoding to categorical variables\n",
    "# for col in categorical_cols:\n",
    "#     label_encoder = LabelEncoder()\n",
    "#     X_data_df[col] = label_encoder.fit_transform(X_data_df[col])\n",
    "\n",
    "# # Define column transformer for standard scaling numerical features\n",
    "# preprocessor = ColumnTransformer(\n",
    "#     transformers=[\n",
    "#         ('num', StandardScaler(), numerical_cols)\n",
    "#     ],\n",
    "#     remainder='passthrough'\n",
    "# )\n",
    "\n",
    "# # Create pipeline for preprocessing and apply it to X_data\n",
    "# pipeline = Pipeline(steps=[('preprocessor', preprocessor)])\n",
    "# X_data_scaled = pipeline.fit_transform(X_data_df)\n",
    "\n",
    "# # Retrieve the transformed feature names from ColumnTransformer\n",
    "# transformed_column_names = numerical_cols + categorical_cols\n",
    "\n",
    "# # Create a DataFrame from the preprocessed feature data\n",
    "# X_data_scaled_df = pd.DataFrame(X_data_scaled, columns=transformed_column_names)\n",
    "\n",
    "# # Convert categorical columns to int\n",
    "# X_data_scaled_df[categorical_cols] = X_data_scaled_df[categorical_cols].astype('int8')\n",
    "\n",
    "# X_train = X_data_scaled_df\n",
    "# y_train = y_data_df\n",
    "\n",
    "# # Adjust for embeddings\n",
    "# X_train_numerical, X_train_categorical = adjust_for_embeddings(X_train, categorical_cols)\n",
    "\n",
    "# # Construct input data suitable for the embedding layers\n",
    "# X_train_input = [X_train_categorical['team_direction'].reshape(-1, 1), X_train_categorical['role'].reshape(-1, 1), X_train_numerical]\n",
    "\n",
    "# frames_df = predict_two_seconds_NN_model([frames_df], load_model(\"models/NN_embedding_model_5.h5\", euclidean_distance_loss=True), X_train_input)\n",
    "\n",
    "# error = total_error_loss(frames_df)\n",
    "\n",
    "# print(error)\n",
    "\n",
    "# The frame interval cant contain missing frames\n",
    "# visualize_prediction_animation(frames_df, 3800, 4200, \"NN_embedding_model_5\")"
   ]
  },
  {
   "cell_type": "markdown",
   "id": "bf83e6f4",
   "metadata": {},
   "source": [
    "## Evaluate"
   ]
  },
  {
   "cell_type": "code",
   "execution_count": 15,
   "id": "be630934",
   "metadata": {},
   "outputs": [
    {
     "ename": "NameError",
     "evalue": "name 'test_naive_df' is not defined",
     "output_type": "error",
     "traceback": [
      "\u001b[0;31m---------------------------------------------------------------------------\u001b[0m",
      "\u001b[0;31mNameError\u001b[0m                                 Traceback (most recent call last)",
      "Cell \u001b[0;32mIn [15], line 22\u001b[0m\n\u001b[1;32m     18\u001b[0m column_to_analyze \u001b[39m=\u001b[39m \u001b[39m'\u001b[39m\u001b[39mposition\u001b[39m\u001b[39m'\u001b[39m\n\u001b[1;32m     19\u001b[0m \u001b[39m# test_with_predictions_df\u001b[39;00m\n\u001b[1;32m     20\u001b[0m \n\u001b[1;32m     21\u001b[0m \u001b[39m# Call the function\u001b[39;00m\n\u001b[0;32m---> 22\u001b[0m column_variance_df \u001b[39m=\u001b[39m find_column_variance(test_naive_df, column_to_analyze)\n\u001b[1;32m     24\u001b[0m \u001b[39m# Print the DataFrame with results\u001b[39;00m\n\u001b[1;32m     25\u001b[0m \u001b[39mprint\u001b[39m(\u001b[39mf\u001b[39m\u001b[39m\"\u001b[39m\u001b[39mAverage Pred Error per \u001b[39m\u001b[39m{\u001b[39;00mcolumn_to_analyze\u001b[39m}\u001b[39;00m\u001b[39m:\u001b[39m\u001b[39m\"\u001b[39m)\n",
      "\u001b[0;31mNameError\u001b[0m: name 'test_naive_df' is not defined"
     ]
    }
   ],
   "source": [
    "# Calculates how the average 'pred_error' varies with each value in 'column_to_analyze'\n",
    "def find_column_variance(frames_df, column_to_analyze):\n",
    "    # Convert 'pred_error' to numeric, coercing non-numeric values to NaN\n",
    "    frames_df['pred_error'] = pd.to_numeric(frames_df['pred_error'], errors='coerce')\n",
    "\n",
    "    # Group by 'column_to_analyze' and calculate the average 'pred_error'\n",
    "    column_variance_df = frames_df.groupby(column_to_analyze)['pred_error'].mean().reset_index()\n",
    "\n",
    "    # Round to 2 decimal places\n",
    "    column_variance_df['pred_error'] = round(column_variance_df['pred_error'], 2)\n",
    "\n",
    "    # Sort by 'column_to_analyze' in ascending order\n",
    "    column_variance_df = column_variance_df.sort_values(by=column_to_analyze, ascending=True)\n",
    "\n",
    "    # Return DataFrame with results\n",
    "    return column_variance_df\n",
    "\n",
    "column_to_analyze = 'position'\n",
    "# test_with_predictions_df\n",
    "\n",
    "# Call the function\n",
    "column_variance_df = find_column_variance(test_frames_concat_df, column_to_analyze)\n",
    "\n",
    "# Print the DataFrame with results\n",
    "print(f\"Average Pred Error per {column_to_analyze}:\")\n",
    "print(column_variance_df)"
   ]
  },
  {
   "cell_type": "code",
   "execution_count": 14,
   "id": "60a8222e",
   "metadata": {},
   "outputs": [
    {
     "data": {
      "text/plain": [
       "2.08"
      ]
     },
     "execution_count": 14,
     "metadata": {},
     "output_type": "execute_result"
    }
   ],
   "source": [
    "# Concatenate the frames DataFrames into a single large DataFrame\n",
    "test_frames_concat_df = pd.concat(test_frames_dfs, ignore_index=True)\n",
    "\n",
    "predict_two_seconds_naive_acceleration(test_frames_concat_df)"
   ]
  },
  {
   "cell_type": "code",
   "execution_count": 16,
   "id": "43b30165",
   "metadata": {},
   "outputs": [
    {
     "name": "stdout",
     "output_type": "stream",
     "text": [
      "Average Pred Error per position:\n",
      "               position  pred_error\n",
      "0  Attacking Midfielder        2.07\n",
      "1    Central Midfielder        2.05\n",
      "2           Centre-Back        1.87\n",
      "3  Defensive Midfielder        2.00\n",
      "4               Forward        1.81\n",
      "5             Full-Back        2.05\n",
      "6            Goalkeeper        1.17\n",
      "7               Unknown        1.84\n",
      "8       Wide Midfielder        2.02\n",
      "9                Winger        2.00\n"
     ]
    }
   ],
   "source": [
    "column_to_analyze = 'position'\n",
    "\n",
    "# Call the function\n",
    "column_variance_df = find_column_variance(test_frames_concat_df, column_to_analyze)\n",
    "\n",
    "# Print the DataFrame with results\n",
    "print(f\"Average Pred Error per {column_to_analyze}:\")\n",
    "print(column_variance_df)"
   ]
  }
 ],
 "metadata": {
  "kernelspec": {
   "display_name": "My Python",
   "language": "python",
   "name": "my_python"
  },
  "language_info": {
   "codemirror_mode": {
    "name": "ipython",
    "version": 3
   },
   "file_extension": ".py",
   "mimetype": "text/x-python",
   "name": "python",
   "nbconvert_exporter": "python",
   "pygments_lexer": "ipython3",
   "version": "3.10.4 (main, Feb  1 2024, 03:10:29) [GCC 11.3.0]"
  }
 },
 "nbformat": 4,
 "nbformat_minor": 5
}
