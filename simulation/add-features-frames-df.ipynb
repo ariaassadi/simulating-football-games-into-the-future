{
 "cells": [
  {
   "cell_type": "markdown",
   "id": "c078666b",
   "metadata": {},
   "source": [
    "### Import packages"
   ]
  },
  {
   "cell_type": "code",
   "execution_count": 1,
   "id": "fa43b454-7b17-42fc-be8a-de1770ba3a30",
   "metadata": {},
   "outputs": [
    {
     "name": "stderr",
     "output_type": "stream",
     "text": [
      "2024-04-17 14:49:22.594072: I tensorflow/core/util/port.cc:104] oneDNN custom operations are on. You may see slightly different numerical results due to floating-point round-off errors from different computation orders. To turn them off, set the environment variable `TF_ENABLE_ONEDNN_OPTS=0`.\n"
     ]
    }
   ],
   "source": [
    "from pathlib import Path\n",
    "import pandas as pd\n",
    "import numpy as np\n",
    "import glob\n",
    "import os\n",
    "\n",
    "from add_features import add_xy_future, add_velocity_xy, add_acceleration_xy, add_average_velocity, add_orientation, add_ball_in_motion, add_distance_to_ball, add_angle_to_ball, add_offside, load_FM_data, add_FM_data, add_tiredness, add_tiredness_short_term\n",
    "from visualize_game import visualize_game_animation, visualize_prediction_animation\n",
    "from utils import google_sheet_to_df, load_processed_frames\n",
    "from settings import *"
   ]
  },
  {
   "cell_type": "markdown",
   "id": "5b00acdb",
   "metadata": {},
   "source": [
    "## Features explanation"
   ]
  },
  {
   "cell_type": "markdown",
   "id": "b297ba1b",
   "metadata": {},
   "source": [
    "### Tiredness\n",
    "The tiredness of a player can be calculated using the formula:\n",
    "$$\\text{Tiredness} = \\left( \\frac{\\text{distance\\_ran}}{1000} + \\frac{\\text{minute}}{20} + \\text{period} - 1 \\right) \\times \\left( 1 - \\frac{\\text{sta}}{20} \\right)$$\n",
    "where $\\text{distance\\_ran}$ is the distance ran in meters, $\\text{minute}$ is the minute of the game, $\\text{minute}$ is the period of the game, and $\\text{sta}$ is the player's stamina rated from 1 to 20.\n",
    "\n",
    "Explanation of formula:\n",
    "For every kilometer the player runs, every 20th minute that passes, and every frame in the second half, the tiredness is increase by 1. Everything is than scaled based on the stamina of the player"
   ]
  },
  {
   "cell_type": "markdown",
   "id": "60ef43b7",
   "metadata": {},
   "source": [
    "## Functions for processing frames"
   ]
  },
  {
   "cell_type": "code",
   "execution_count": 1,
   "id": "98345c50",
   "metadata": {},
   "outputs": [],
   "source": [
    "# Process the unprocessed/ frames, and store the results to the processed/ fodler\n",
    "def process_frames():\n",
    "    # Load frames_df\n",
    "    for selected_season in seasons:\n",
    "        for selected_competition in competitions:\n",
    "            # Define paths\n",
    "            DATA_FOLDER_UNPROCESSED = f\"{DATA_LOCAL_FOLDER}/data/{selected_season}/{selected_competition}/unprocessed\"\n",
    "            FOLDER_OUT = f\"{DATA_LOCAL_FOLDER}/data/{selected_season}/{selected_competition}/processed\"\n",
    "            \n",
    "            # Create output folder if not exists\n",
    "            if not os.path.exists(FOLDER_OUT):\n",
    "                    os.makedirs(FOLDER_OUT)\n",
    "\n",
    "            # Find all frames parquet files\n",
    "            match_paths = glob.glob(os.path.join(DATA_FOLDER_UNPROCESSED, \"*.parquet\"))\n",
    "\n",
    "            # Extract IDs without the \".parquet\" extension\n",
    "            match_ids = [os.path.splitext(os.path.basename(path))[0] for path in match_paths]\n",
    "            # match_ids = ['49e6bfdf-abf3-499d-b60e-cf727c6523c1']\n",
    "\n",
    "            # Load Football Manager data\n",
    "            fm_players_df = load_FM_data()\n",
    "\n",
    "            # For all matches\n",
    "            for match_id in match_ids:\n",
    "                # Skip if processed game already exists, if specified\n",
    "                if not reload_data and Path(f\"{FOLDER_OUT}/{match_id}.parquet\").exists():\n",
    "                    print(f\"Match {match_id} already processed. Skipping...\")\n",
    "                    continue  # Skip to the next match\n",
    "\n",
    "                # Convert parquet file to a DataFrame\n",
    "                file_path_match = f\"{DATA_FOLDER_UNPROCESSED}/{match_id}.parquet\"\n",
    "                frames_df = pd.read_parquet(file_path_match)\n",
    "\n",
    "                # Process frames_df\n",
    "                frames_df = add_xy_future(frames_df, FPS * seconds_into_the_future)\n",
    "                frames_df = add_velocity_xy(frames_df, 1, smooth=True)\n",
    "                frames_df = add_acceleration_xy(frames_df, 1, smooth=True)\n",
    "                frames_df = add_average_velocity(frames_df)\n",
    "                frames_df = add_orientation(frames_df)\n",
    "                frames_df = add_ball_in_motion(frames_df)\n",
    "                frames_df = add_distance_to_ball(frames_df)\n",
    "                frames_df = add_angle_to_ball(frames_df)\n",
    "                frames_df = add_offside(frames_df)\n",
    "                frames_df = add_FM_data(frames_df, fm_players_df)\n",
    "                frames_df = add_tiredness(frames_df)\n",
    "                frames_df = add_tiredness_short_term(frames_df, window=FPS*20)\n",
    "\n",
    "                # Add match_id\n",
    "                frames_df[\"match_id\"] = match_id\n",
    "\n",
    "                # Convert DataFrame to a parquet file\n",
    "                frames_df.to_parquet(f\"{FOLDER_OUT}/{match_id}.parquet\")\n",
    "\n",
    "                # Print that the match is processed\n",
    "                print(f\"Match {match_id} is processed\")\n",
    "\n",
    "# Takes the processed frames and add more features\n",
    "def add_data_to_processed_frames():\n",
    "    # Define the paths\n",
    "    for selected_season in seasons:\n",
    "        for selected_competition in competitions:\n",
    "            # Define the paths\n",
    "            FOLDER_OUT = f\"{DATA_LOCAL_FOLDER}/data/{selected_season}/{selected_competition}/processed\"\n",
    "\n",
    "            # Find all processed frames parquet files\n",
    "            processed_paths = glob.glob(os.path.join(FOLDER_OUT, \"*.parquet\"))\n",
    "\n",
    "            fm_players_df = load_FM_data()\n",
    "\n",
    "            # For each processed frame\n",
    "            for processed_path in processed_paths:\n",
    "                # Load the processed DataFrame\n",
    "                frames_df = pd.read_parquet(processed_path)\n",
    "\n",
    "                # Perform the operation to add data to the processed frames\n",
    "                # For example:\n",
    "                # frames_df = add_additional_data(frames_df)\n",
    "                frames_df = add_average_velocity(frames_df)\n",
    "                frames_df = add_tiredness_short_term(frames_df, window=FPS*20)\n",
    "                frames_df = add_offside(frames_df)\n",
    "\n",
    "                # Save the updated DataFrame back to the same file\n",
    "                frames_df.to_parquet(processed_path)\n",
    "\n",
    "                # Print that the match is processed\n",
    "                match_id = processed_path.replace(FOLDER_OUT, '').strip('/').rstrip('.parquet')\n",
    "                print(f\"Match {match_id} is processed\")\n",
    "\n",
    "# Process and load frames\n",
    "# process_frames()\n",
    "# frames_dfs = load_processed_frames(n_matches=1)\n",
    "# add_data_to_processed_frames()"
   ]
  }
 ],
 "metadata": {
  "kernelspec": {
   "display_name": "My Python",
   "language": "python",
   "name": "my_python"
  },
  "language_info": {
   "codemirror_mode": {
    "name": "ipython",
    "version": 3
   },
   "file_extension": ".py",
   "mimetype": "text/x-python",
   "name": "python",
   "nbconvert_exporter": "python",
   "pygments_lexer": "ipython3",
   "version": "3.10.4"
  }
 },
 "nbformat": 4,
 "nbformat_minor": 5
}
