{
 "cells": [
  {
   "cell_type": "markdown",
   "id": "c078666b",
   "metadata": {},
   "source": [
    "### Import packages"
   ]
  },
  {
   "cell_type": "code",
   "execution_count": 1,
   "id": "fa43b454-7b17-42fc-be8a-de1770ba3a30",
   "metadata": {},
   "outputs": [
    {
     "name": "stderr",
     "output_type": "stream",
     "text": [
      "2024-04-17 14:49:22.594072: I tensorflow/core/util/port.cc:104] oneDNN custom operations are on. You may see slightly different numerical results due to floating-point round-off errors from different computation orders. To turn them off, set the environment variable `TF_ENABLE_ONEDNN_OPTS=0`.\n"
     ]
    }
   ],
   "source": [
    "from pathlib import Path\n",
    "import pandas as pd\n",
    "import numpy as np\n",
    "import glob\n",
    "import os\n",
    "\n",
    "from add_features import add_xy_future, add_velocity_xy, add_acceleration_xy, add_average_velocity, add_orientation, add_ball_in_motion, add_distance_to_ball, add_angle_to_ball, add_offside, load_FM_data, add_FM_data, add_tiredness, add_tiredness_short_term\n",
    "from visualize_game import visualize_game_animation, visualize_prediction_animation\n",
    "from utils import google_sheet_to_df, load_processed_frames\n",
    "from settings import *"
   ]
  },
  {
   "cell_type": "markdown",
   "id": "5b00acdb",
   "metadata": {},
   "source": [
    "## Features explanation"
   ]
  },
  {
   "cell_type": "markdown",
   "id": "b297ba1b",
   "metadata": {},
   "source": [
    "### Tiredness\n",
    "The tiredness of a player can be calculated using the formula:\n",
    "$$\\text{Tiredness} = \\left( \\frac{\\text{distance\\_ran}}{1000} + \\frac{\\text{minute}}{20} + \\text{period} - 1 \\right) \\times \\left( 1 - \\frac{\\text{sta}}{20} \\right)$$\n",
    "where $\\text{distance\\_ran}$ is the distance ran in meters, $\\text{minute}$ is the minute of the game, $\\text{minute}$ is the period of the game, and $\\text{sta}$ is the player's stamina rated from 1 to 20.\n",
    "\n",
    "Explanation of formula:\n",
    "For every kilometer the player runs, every 20th minute that passes, and every frame in the second half, the tiredness is increase by 1. Everything is than scaled based on the stamina of the player"
   ]
  },
  {
   "cell_type": "markdown",
   "id": "60ef43b7",
   "metadata": {},
   "source": [
    "## Functions for processing frames"
   ]
  },
  {
   "cell_type": "code",
   "execution_count": 3,
   "id": "98345c50",
   "metadata": {},
   "outputs": [
    {
     "name": "stdout",
     "output_type": "stream",
     "text": [
      "Match d4d052c4-2367-499d-a625-b65c52b2535c is processed\n",
      "Match 3bcee2a3-dce2-4ec9-ab96-6c0f2a742363 is processed\n",
      "Match a903fa6a-431f-4a4c-a415-1ad9ff74b092 is processed\n",
      "Match 4eefde1c-1962-4ee9-8c7c-60ce73d960fd is processed\n",
      "Match a702213b-a0ce-4bb1-8d5a-c0bbf27adb85 is processed\n",
      "Match 13a7806b-b717-4052-b8f9-d5ce515b331f is processed\n",
      "Match b73d1042-5658-4be2-93d2-a639396cd248 is processed\n",
      "Match cba3f068-be39-4588-8139-a44cb7c8c3af is processed\n",
      "Match e0b985f0-edaf-4e9c-a314-b16f3eb7453d is processed\n",
      "Match 36761aec-d5e6-4c0e-95ff-c280f04ba5d7 is processed\n",
      "Match 442302f6-33d6-4e9e-bf33-406d0a5ad246 is processed\n",
      "Match dd79b17a-bd93-48e7-b925-2a52fad7df6 is processed\n",
      "Match 590ae7ee-f541-433a-8515-9a85035f7e8d is processed\n",
      "Match fd925348-1732-4eaa-9685-fafb48709f0d is processed\n",
      "Match 766d9ff3-4562-47ad-a4bb-5ce897434a81 is processed\n",
      "Match eff033b8-5cd8-4241-bfc6-42fa0bf978d3 is processed\n",
      "Match 2fcbfe27-7f18-437b-8284-efac4d2265df is processed\n",
      "Match e6cff0eb-f0a1-437e-85a7-b42114bf851c is processed\n",
      "Match fc751145-0ff9-4a55-af74-937f59f41602 is processed\n",
      "Match 389c6455-21b8-4db8-a678-105c26c5f85d is processed\n",
      "Match 03782313-ac38-412f-8671-098506bdb82c is processed\n",
      "Match 94c94e1a-e701-44f7-a6fe-ead2a2f7ff3c is processed\n",
      "Match 9e39c921-6bdf-4c75-a0cd-8bd24a983b0 is processed\n",
      "Match be282010-d746-445d-940c-f26ce2920ae4 is processed\n",
      "Match 5ed54248-8ee8-4857-9cf5-2b33318adec9 is processed\n",
      "Match c960435c-3e92-4cb9-b36d-006b7c9bc429 is processed\n",
      "Match b37b8919-e5bf-460e-a431-48feb878729f is processed\n",
      "Match 6f199afa-e6b4-4188-b450-d167cdfdfc9c is processed\n",
      "Match c9dc0e2c-e7ed-4f21-9053-6a852e1e6aac is processed\n",
      "Match 634af162-0b60-444e-b4e5-b3b72c9019f9 is processed\n",
      "Match a818c1f1-861a-4162-a30c-d8989dfb0390 is processed\n",
      "Match e9cb99c3-71b3-44af-8b03-735932cc754f is processed\n",
      "Match 9835c0bc-765b-44d5-bd3c-dcca8a950a2b is processed\n",
      "Match 402842da-a7c6-48f6-810c-4e161e3d08f is processed\n",
      "Match 82feeca5-99d9-4143-bb6c-9e6a8a74b3a3 is processed\n",
      "Match 3acbc760-5bad-426c-ab7c-ef2d80f5ecf9 is processed\n",
      "Match 18b9289e-3f69-4e5f-aedf-170cc4f16f27 is processed\n",
      "Match 6c3fd02b-1145-4b79-9427-c1503800098f is processed\n",
      "Match 343da4a6-5a50-43b2-96fc-d74b4fbb6be5 is processed\n",
      "Match 24a8071b-e511-4b70-bd8e-9bcf9e9fc626 is processed\n",
      "Match c820079c-2c34-485e-8b0a-73226152d986 is processed\n",
      "Match dd9040e5-0320-4805-bfb1-5922f2405314 is processed\n",
      "Match 0f4fbbcb-7058-49ea-9e96-f14d02320103 is processed\n"
     ]
    }
   ],
   "source": [
    "# Process the unprocessed/ frames, and store the results to the processed/ fodler\n",
    "def process_frames():\n",
    "    # Load frames_df\n",
    "    for selected_season in seasons:\n",
    "        for selected_competition in competitions:\n",
    "            # Define paths\n",
    "            DATA_FOLDER_UNPROCESSED = f\"{DATA_LOCAL_FOLDER}/data/{selected_season}/{selected_competition}/unprocessed\"\n",
    "            FOLDER_OUT = f\"{DATA_LOCAL_FOLDER}/data/{selected_season}/{selected_competition}/processed\"\n",
    "            \n",
    "            # Create output folder if not exists\n",
    "            if not os.path.exists(FOLDER_OUT):\n",
    "                    os.makedirs(FOLDER_OUT)\n",
    "\n",
    "            # Find all frames parquet files\n",
    "            match_paths = glob.glob(os.path.join(DATA_FOLDER_UNPROCESSED, \"*.parquet\"))\n",
    "\n",
    "            # Extract IDs without the \".parquet\" extension\n",
    "            match_ids = [os.path.splitext(os.path.basename(path))[0] for path in match_paths]\n",
    "            # match_ids = ['49e6bfdf-abf3-499d-b60e-cf727c6523c1']\n",
    "\n",
    "            # Load Football Manager data\n",
    "            fm_players_df = load_FM_data()\n",
    "\n",
    "            # For all matches\n",
    "            for match_id in match_ids:\n",
    "                # Skip if processed game already exists, if specified\n",
    "                if not reload_data and Path(f\"{FOLDER_OUT}/{match_id}.parquet\").exists():\n",
    "                    print(f\"Match {match_id} already processed. Skipping...\")\n",
    "                    continue  # Skip to the next match\n",
    "\n",
    "                # Convert parquet file to a DataFrame\n",
    "                file_path_match = f\"{DATA_FOLDER_UNPROCESSED}/{match_id}.parquet\"\n",
    "                frames_df = pd.read_parquet(file_path_match)\n",
    "\n",
    "                # Process frames_df\n",
    "                frames_df = add_xy_future(frames_df, FPS * seconds_into_the_future)\n",
    "                frames_df = add_velocity_xy(frames_df, 1, smooth=True)\n",
    "                frames_df = add_acceleration_xy(frames_df, 1, smooth=True)\n",
    "                frames_df = add_average_velocity(frames_df)\n",
    "                frames_df = add_orientation(frames_df)\n",
    "                frames_df = add_ball_in_motion(frames_df)\n",
    "                frames_df = add_distance_to_ball(frames_df)\n",
    "                frames_df = add_angle_to_ball(frames_df)\n",
    "                frames_df = add_offside(frames_df)\n",
    "                frames_df = add_FM_data(frames_df, fm_players_df)\n",
    "                frames_df = add_tiredness(frames_df)\n",
    "                frames_df = add_tiredness_short_term(frames_df, window=FPS*20)\n",
    "\n",
    "                # Add match_id\n",
    "                frames_df[\"match_id\"] = match_id\n",
    "\n",
    "                # Convert DataFrame to a parquet file\n",
    "                frames_df.to_parquet(f\"{FOLDER_OUT}/{match_id}.parquet\")\n",
    "\n",
    "                # Print that the match is processed\n",
    "                print(f\"Match {match_id} is processed\")\n",
    "\n",
    "# Takes the processed frames and add more features\n",
    "def add_data_to_processed_frames():\n",
    "    # Define the paths\n",
    "    for selected_season in seasons:\n",
    "        for selected_competition in competitions:\n",
    "            # Define the paths\n",
    "            FOLDER_OUT = f\"{DATA_LOCAL_FOLDER}/data/{selected_season}/{selected_competition}/processed\"\n",
    "\n",
    "            # Find all processed frames parquet files\n",
    "            processed_paths = glob.glob(os.path.join(FOLDER_OUT, \"*.parquet\"))\n",
    "\n",
    "            fm_players_df = load_FM_data()\n",
    "\n",
    "            # For each processed frame\n",
    "            for processed_path in processed_paths:\n",
    "                # Load the processed DataFrame\n",
    "                frames_df = pd.read_parquet(processed_path)\n",
    "\n",
    "                # Perform the operation to add data to the processed frames\n",
    "                # For example:\n",
    "                # frames_df = add_additional_data(frames_df)\n",
    "                frames_df = add_average_velocity(frames_df)\n",
    "                frames_df = add_tiredness_short_term(frames_df, window=FPS*20)\n",
    "                frames_df = add_offside(frames_df)\n",
    "\n",
    "                # Save the updated DataFrame back to the same file\n",
    "                frames_df.to_parquet(processed_path)\n",
    "\n",
    "                # Print that the match is processed\n",
    "                match_id = processed_path.replace(FOLDER_OUT, '').strip('/').rstrip('.parquet')\n",
    "                print(f\"Match {match_id} is processed\")\n",
    "\n",
    "# Process and load frames\n",
    "# process_frames()\n",
    "# frames_dfs = load_processed_frames(n_matches=1)\n",
    "add_data_to_processed_frames()"
   ]
  }
 ],
 "metadata": {
  "kernelspec": {
   "display_name": "My Python",
   "language": "python",
   "name": "my_python"
  },
  "language_info": {
   "codemirror_mode": {
    "name": "ipython",
    "version": 3
   },
   "file_extension": ".py",
   "mimetype": "text/x-python",
   "name": "python",
   "nbconvert_exporter": "python",
   "pygments_lexer": "ipython3",
   "version": "3.10.4"
  }
 },
 "nbformat": 4,
 "nbformat_minor": 5
}
