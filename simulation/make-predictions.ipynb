{
 "cells": [
  {
   "cell_type": "markdown",
   "id": "c078666b",
   "metadata": {},
   "source": [
    "### Import packages"
   ]
  },
  {
   "cell_type": "code",
   "execution_count": 2,
   "id": "fa43b454-7b17-42fc-be8a-de1770ba3a30",
   "metadata": {},
   "outputs": [
    {
     "name": "stderr",
     "output_type": "stream",
     "text": [
      "2024-04-03 18:00:37.967560: I tensorflow/core/util/port.cc:104] oneDNN custom operations are on. You may see slightly different numerical results due to floating-point round-off errors from different computation orders. To turn them off, set the environment variable `TF_ENABLE_ONEDNN_OPTS=0`.\n"
     ]
    }
   ],
   "source": [
    "from sklearn.preprocessing import StandardScaler, OneHotEncoder\n",
    "from sklearn.model_selection import train_test_split\n",
    "from sklearn.compose import ColumnTransformer\n",
    "from scipy.signal import savgol_filter\n",
    "from sklearn.pipeline import Pipeline\n",
    "\n",
    "from pathlib import Path\n",
    "import pandas as pd\n",
    "import numpy as np\n",
    "import random\n",
    "import glob\n",
    "import os\n",
    "\n",
    "from add_features import add_xy_future, add_velocity_xy, add_acceleration_xy, add_orientation, add_ball_in_motion, add_distance_to_ball, add_angle_to_ball, add_FM_data, add_tiredness, add_offside \n",
    "from visualize_game import visualize_game_animation, visualize_prediction_animation\n",
    "from utils import google_sheet_to_df, load_processed_frames\n",
    "from settings import *"
   ]
  },
  {
   "cell_type": "markdown",
   "id": "ec9ceda5",
   "metadata": {},
   "source": [
    "### Necessary columns\n",
    "| Column Name    | Description                                        |\n",
    "|----------------|----------------------------------------------------|\n",
    "| player         | The name of the player                             |\n",
    "| jersey_number  | The jersey number of the player                    |\n",
    "| team           | 'home_team', 'away_team', or 'ball'                |\n",
    "| team_name      | The team of the player                             |\n",
    "| period         | The period of the game (1 or 2)                    |\n",
    "| minute         | The minute of the game                             |\n",
    "| second         | The second within the current minute               |\n",
    "| frame          | The frame of the game                              |\n",
    "| distance_ran   | The cumulative distance covered by the player      |\n",
    "| x              | The x-coordinate of the player                     |\n",
    "| y              | The y-coordinate of the player                     |"
   ]
  },
  {
   "cell_type": "markdown",
   "id": "fc047404",
   "metadata": {},
   "source": [
    "## Define make prediction"
   ]
  },
  {
   "cell_type": "code",
   "execution_count": null,
   "id": "0022d7ca",
   "metadata": {},
   "outputs": [],
   "source": [
    "# Add all features\n",
    "def add_all_features(frames_df):\n",
    "    # Add the following features\n",
    "    add_xy_future(frames_df, FPS * seconds_into_the_future)\n",
    "    add_velocity_xy(frames_df, 1, smooth=True)\n",
    "    add_acceleration_xy(frames_df, 1, smooth=True)\n",
    "    add_orientation(frames_df)\n",
    "    add_ball_in_motion(frames_df)\n",
    "    add_distance_to_ball(frames_df)\n",
    "    add_angle_to_ball(frames_df)\n",
    "    add_FM_data(frames_df, fm_players_df)\n",
    "    add_tiredness(frames_df)"
   ]
  },
  {
   "cell_type": "code",
   "execution_count": 1,
   "id": "28974278",
   "metadata": {},
   "outputs": [],
   "source": [
    "\n",
    "def make_predictions(frames_df, model_name):\n",
    "    # Prepare the DataFrame by adding all features\n",
    "    add_all_features(frames_df)\n",
    "\n",
    "    # Run the model and the vectors 'x_future_pred' and 'y_future_pred'\n",
    "    frames_df = run_model()"
   ]
  },
  {
   "cell_type": "markdown",
   "id": "04d69186",
   "metadata": {},
   "source": [
    "## Example usage"
   ]
  },
  {
   "cell_type": "code",
   "execution_count": null,
   "id": "33a0fe33",
   "metadata": {},
   "outputs": [],
   "source": [
    "# Example match\n",
    "DATA_FOLDER_UNPROCESSED = f\"{DATA_LOCAL_FOLDER}/data/2023/Allsvenskan/unprocessed\"\n",
    "match_id = '49e6bfdf-abf3-499d-b60e-cf727c6523c1'\n",
    "file_path_match = f\"{DATA_FOLDER_UNPROCESSED}/{match_id}.parquet\"\n",
    "\n",
    "# Convert parquet file to a DataFrame\n",
    "frames_df = pd.read_parquet(file_path_match)\n",
    "\n",
    "# Make the prediction\n",
    "make_predictions(frames_df, \"NN_best_v1\")"
   ]
  },
  {
   "cell_type": "code",
   "execution_count": 2,
   "id": "98345c50",
   "metadata": {},
   "outputs": [],
   "source": [
    "# Process the unprocessed/ frames, and store the results to the processed/ fodler\n",
    "def process_frames():\n",
    "    # Load frames_df\n",
    "    for selected_season in seasons:\n",
    "        for selected_competition in competitions:\n",
    "            # Define paths\n",
    "            DATA_FOLDER_UNPROCESSED = f\"{DATA_LOCAL_FOLDER}/data/{selected_season}/{selected_competition}/unprocessed\"\n",
    "            FOLDER_OUT = f\"{DATA_LOCAL_FOLDER}/data/{selected_season}/{selected_competition}/processed\"\n",
    "            \n",
    "            # Create output folder if not exists\n",
    "            if not os.path.exists(FOLDER_OUT):\n",
    "                    os.makedirs(FOLDER_OUT)\n",
    "\n",
    "            # Find all frames parquet files\n",
    "            match_paths = glob.glob(os.path.join(DATA_FOLDER_UNPROCESSED, \"*.parquet\"))\n",
    "\n",
    "            # Extract IDs without the \".parquet\" extension\n",
    "            match_ids = [os.path.splitext(os.path.basename(path))[0] for path in match_paths]\n",
    "            # match_ids = ['49e6bfdf-abf3-499d-b60e-cf727c6523c1']\n",
    "\n",
    "            # Load Football Manager data\n",
    "            fm_players_df = load_FM_data()\n",
    "\n",
    "            # For all matches\n",
    "            for match_id in match_ids:\n",
    "                # Skip if processed game already exists, if specified\n",
    "                if not reload_data and Path(f\"{FOLDER_OUT}/{match_id}.parquet\").exists():\n",
    "                    print(f\"Match {match_id} already processed. Skipping...\")\n",
    "                    continue  # Skip to the next match\n",
    "\n",
    "                # Convert parquet file to a DataFrame\n",
    "                file_path_match = f\"{DATA_FOLDER_UNPROCESSED}/{match_id}.parquet\"\n",
    "                frames_df = pd.read_parquet(file_path_match)\n",
    "\n",
    "                # Process frames_df\n",
    "                add_xy_future(frames_df, FPS * seconds_into_the_future)\n",
    "                add_velocity_xy(frames_df, 1, smooth=True)\n",
    "                add_acceleration_xy(frames_df, 1, smooth=True)\n",
    "                add_orientation(frames_df)\n",
    "                add_ball_in_motion(frames_df)\n",
    "                add_distance_to_ball(frames_df)\n",
    "                add_angle_to_ball(frames_df)\n",
    "                add_FM_data(frames_df, fm_players_df)\n",
    "                add_tiredness(frames_df)\n",
    "                # add_offside(frames_df)\n",
    "\n",
    "                # Add match_id\n",
    "                frames_df[\"match_id\"] = match_id\n",
    "\n",
    "                # Convert DataFrame to a parquet file\n",
    "                frames_df.to_parquet(f\"{FOLDER_OUT}/{match_id}.parquet\")\n",
    "\n",
    "                # Print that the match is processed\n",
    "                print(f\"Match {match_id} is processed\")\n",
    "\n",
    "# Takes the processed frames and add more features\n",
    "def add_data_to_processed_frames():\n",
    "    # Define the paths\n",
    "    for selected_season in seasons:\n",
    "        for selected_competition in competitions:\n",
    "            # Define the paths\n",
    "            FOLDER_OUT = f\"{DATA_LOCAL_FOLDER}/data/{selected_season}/{selected_competition}/processed\"\n",
    "\n",
    "            # Find all processed frames parquet files\n",
    "            processed_paths = glob.glob(os.path.join(FOLDER_OUT, \"*.parquet\"))\n",
    "\n",
    "            # fm_players_df = load_FM_data()\n",
    "\n",
    "            # For each processed frame\n",
    "            for processed_path in processed_paths:\n",
    "                # Load the processed DataFrame\n",
    "                frames_df = pd.read_parquet(processed_path)\n",
    "\n",
    "                # Perform the operation to add data to the processed frames\n",
    "                # For example:\n",
    "                # add_additional_data(frames_df)\n",
    "                add_tiredness(frames_df)\n",
    "\n",
    "                # Save the updated DataFrame back to the same file\n",
    "                frames_df.to_parquet(processed_path)\n",
    "\n",
    "                # Print that the match is processed\n",
    "                match_id = processed_path.replace(FOLDER_OUT, '').strip('/').rstrip('.parquet')\n",
    "                print(f\"Match {match_id} is processed\")\n",
    "\n",
    "# Process and load frames\n",
    "# process_frames()\n",
    "frames_dfs = load_processed_frames(n_matches=10)\n",
    "# add_data_to_processed_frames()"
   ]
  }
 ],
 "metadata": {
  "kernelspec": {
   "display_name": "My Python",
   "language": "python",
   "name": "my_python"
  },
  "language_info": {
   "codemirror_mode": {
    "name": "ipython",
    "version": 3
   },
   "file_extension": ".py",
   "mimetype": "text/x-python",
   "name": "python",
   "nbconvert_exporter": "python",
   "pygments_lexer": "ipython3",
   "version": "3.10.4"
  }
 },
 "nbformat": 4,
 "nbformat_minor": 5
}
