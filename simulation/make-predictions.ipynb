{
 "cells": [
  {
   "cell_type": "markdown",
   "id": "c078666b",
   "metadata": {},
   "source": [
    "### Import packages"
   ]
  },
  {
   "cell_type": "code",
   "execution_count": null,
   "id": "fa43b454-7b17-42fc-be8a-de1770ba3a30",
   "metadata": {},
   "outputs": [],
   "source": [
    "from sklearn.preprocessing import StandardScaler, OneHotEncoder\n",
    "from sklearn.model_selection import train_test_split\n",
    "from sklearn.compose import ColumnTransformer\n",
    "from sklearn.pipeline import Pipeline\n",
    "\n",
    "from pathlib import Path\n",
    "import pandas as pd\n",
    "import numpy as np\n",
    "import random\n",
    "import glob\n",
    "import os\n",
    "\n",
    "from add_features import add_xy_future, add_velocity_xy, add_acceleration_xy, add_average_velocity, add_orientation, add_ball_in_motion, add_distance_to_ball, add_angle_to_ball, add_offside, load_FM_data, add_FM_data, add_tiredness, add_tiredness_short_term\n",
    "from visualize_game import visualize_game_animation, visualize_prediction_animation\n",
    "from utils import google_sheet_to_df, load_processed_frames, run_model\n",
    "from settings import *"
   ]
  },
  {
   "cell_type": "markdown",
   "id": "ec9ceda5",
   "metadata": {},
   "source": [
    "### Necessary columns\n",
    "| Column Name    | Description                                        |\n",
    "|----------------|----------------------------------------------------|\n",
    "| player         | The name of the player                             |\n",
    "| jersey_number  | The jersey number of the player                    |\n",
    "| team           | 'home_team', 'away_team', or 'ball'                |\n",
    "| team_name      | The team of the player                             |\n",
    "| period         | The period of the game (1 or 2)                    |\n",
    "| minute         | The minute of the game                             |\n",
    "| second         | The second within the current minute               |\n",
    "| frame          | The frame of the game                              |\n",
    "| distance_ran   | The cumulative distance covered by the player      |\n",
    "| x              | The x-coordinate of the player                     |\n",
    "| y              | The y-coordinate of the player                     |"
   ]
  },
  {
   "cell_type": "markdown",
   "id": "fc047404",
   "metadata": {},
   "source": [
    "## Define make prediction"
   ]
  },
  {
   "cell_type": "code",
   "execution_count": null,
   "id": "0022d7ca",
   "metadata": {},
   "outputs": [],
   "source": [
    "# Add all features\n",
    "def add_all_features(frames_df):\n",
    "    # Add the following features\n",
    "    frames_df = add_xy_future(frames_df, FPS * seconds_into_the_future)\n",
    "    frames_df = add_velocity_xy(frames_df, 1, smooth=True)\n",
    "    frames_df = add_acceleration_xy(frames_df, 1, smooth=True)\n",
    "    frames_df = add_average_velocity(frames_df)\n",
    "    frames_df = add_orientation(frames_df)\n",
    "    frames_df = add_ball_in_motion(frames_df)\n",
    "    frames_df = add_distance_to_ball(frames_df)\n",
    "    frames_df = add_angle_to_ball(frames_df)\n",
    "    frames_df = add_offside(frames_df)\n",
    "    frames_df = add_FM_data(frames_df, fm_players_df)\n",
    "    frames_df = add_tiredness(frames_df)\n",
    "    frames_df = add_tiredness_short_term(frames_df, window=FPS*20)\n",
    "\n",
    "    return frames_df"
   ]
  },
  {
   "cell_type": "code",
   "execution_count": null,
   "id": "28974278",
   "metadata": {},
   "outputs": [],
   "source": [
    "# Create the vectors 'x_future_pred' and 'y_future_pred' on frames_df\n",
    "def make_predictions(frames_df, model_name):\n",
    "    # Prepare the DataFrame by adding all features\n",
    "    frames_df = add_all_features(frames_df)\n",
    "\n",
    "    # Run the model and the vectors 'x_future_pred' and 'y_future_pred'\n",
    "    frames_df = run_model([frames_df], model_name)"
   ]
  },
  {
   "cell_type": "markdown",
   "id": "04d69186",
   "metadata": {},
   "source": [
    "## Example usage"
   ]
  },
  {
   "cell_type": "code",
   "execution_count": null,
   "id": "33a0fe33",
   "metadata": {},
   "outputs": [],
   "source": [
    "# Example match\n",
    "DATA_FOLDER_UNPROCESSED = f\"{DATA_LOCAL_FOLDER}/data/2023/Allsvenskan/unprocessed\"\n",
    "match_id = '49e6bfdf-abf3-499d-b60e-cf727c6523c1'\n",
    "file_path_match = f\"{DATA_FOLDER_UNPROCESSED}/{match_id}.parquet\"\n",
    "\n",
    "# Convert parquet file to a DataFrame\n",
    "frames_df = pd.read_parquet(file_path_match)\n",
    "\n",
    "# Make the prediction\n",
    "make_predictions(frames_df, \"NN_best_v1\")"
   ]
  }
 ],
 "metadata": {
  "kernelspec": {
   "display_name": "My Python",
   "language": "python",
   "name": "my_python"
  },
  "language_info": {
   "codemirror_mode": {
    "name": "ipython",
    "version": 3
   },
   "file_extension": ".py",
   "mimetype": "text/x-python",
   "name": "python",
   "nbconvert_exporter": "python",
   "pygments_lexer": "ipython3",
   "version": "3.10.4 (main, Feb  1 2024, 03:10:29) [GCC 11.3.0]"
  }
 },
 "nbformat": 4,
 "nbformat_minor": 5
}
