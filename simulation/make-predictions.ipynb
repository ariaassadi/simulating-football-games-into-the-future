{
 "cells": [
  {
   "cell_type": "markdown",
   "id": "c078666b",
   "metadata": {},
   "source": [
    "### Import packages"
   ]
  },
  {
   "cell_type": "code",
   "execution_count": 1,
   "id": "fa43b454-7b17-42fc-be8a-de1770ba3a30",
   "metadata": {},
   "outputs": [
    {
     "name": "stderr",
     "output_type": "stream",
     "text": [
      "2024-04-26 18:06:37.277212: I tensorflow/core/util/port.cc:104] oneDNN custom operations are on. You may see slightly different numerical results due to floating-point round-off errors from different computation orders. To turn them off, set the environment variable `TF_ENABLE_ONEDNN_OPTS=0`.\n"
     ]
    }
   ],
   "source": [
    "from sklearn.preprocessing import StandardScaler, OneHotEncoder\n",
    "from sklearn.model_selection import train_test_split\n",
    "from sklearn.compose import ColumnTransformer\n",
    "from sklearn.pipeline import Pipeline\n",
    "\n",
    "from pathlib import Path\n",
    "import pandas as pd\n",
    "import numpy as np\n",
    "import random\n",
    "import glob\n",
    "import os\n",
    "\n",
    "from add_features import add_xy_future, add_velocity_xy, add_acceleration_xy, add_average_velocity, add_orientation, add_ball_in_motion, add_distance_to_ball, add_angle_to_ball, add_offside, add_distance_to_onside, load_FM_data, add_FM_data, add_tiredness, add_tiredness_short_term\n",
    "from visualize_game import visualize_game_animation, visualize_prediction_animation\n",
    "from utils import denominators, google_sheet_to_df, split_match_ids, load_processed_frames, extract_variables, load_tf_model, prepare_EL_input_data, prepare_df, prepare_data, prepare_LSTM_df, prepare_LSTM_input_data, total_error_loss, smooth_predictions_xy, run_model, print_column_variance\n",
    "from settings import *"
   ]
  },
  {
   "cell_type": "markdown",
   "id": "ec9ceda5",
   "metadata": {},
   "source": [
    "### Necessary columns\n",
    "| Column Name    | Description                                        |\n",
    "|----------------|----------------------------------------------------|\n",
    "| player         | The name of the player                             |\n",
    "| jersey_number  | The jersey number of the player                    |\n",
    "| team           | 'home_team', 'away_team', or 'ball'                |\n",
    "| team_name      | The team of the player                             |\n",
    "| period         | The period of the game (1 or 2)                    |\n",
    "| minute         | The minute of the game                             |\n",
    "| second         | The second within the current minute               |\n",
    "| frame          | The frame of the game                              |\n",
    "| distance_ran   | The cumulative distance covered by the player      |\n",
    "| x              | The x-coordinate of the player                     |\n",
    "| y              | The y-coordinate of the player                     |"
   ]
  },
  {
   "cell_type": "markdown",
   "id": "fc047404",
   "metadata": {},
   "source": [
    "## Define make prediction"
   ]
  },
  {
   "cell_type": "code",
   "execution_count": 2,
   "id": "0022d7ca",
   "metadata": {},
   "outputs": [],
   "source": [
    "# Add all features\n",
    "def add_all_features(frames_df, match_id):\n",
    "    # Add the following features\n",
    "    frames_df = add_xy_future(frames_df, FPS * seconds_into_the_future)\n",
    "    frames_df = add_velocity_xy(frames_df, 1, smooth=True)\n",
    "    frames_df = add_acceleration_xy(frames_df, 1, smooth=True)\n",
    "    frames_df = add_average_velocity(frames_df)\n",
    "    frames_df = add_orientation(frames_df)\n",
    "    frames_df = add_ball_in_motion(frames_df)\n",
    "    frames_df = add_distance_to_ball(frames_df)\n",
    "    frames_df = add_angle_to_ball(frames_df)\n",
    "    # frames_df = add_offside(frames_df)\n",
    "    frames_df = add_distance_to_onside(frames_df)\n",
    "    frames_df = add_FM_data(frames_df, load_FM_data())\n",
    "    frames_df = add_tiredness(frames_df)\n",
    "    frames_df = add_tiredness_short_term(frames_df, window=FPS*20)\n",
    "\n",
    "    # Add column containing the 'match_id'\n",
    "    frames_df['match_id'] = match_id\n",
    "\n",
    "    return frames_df"
   ]
  },
  {
   "cell_type": "code",
   "execution_count": 4,
   "id": "28974278",
   "metadata": {},
   "outputs": [],
   "source": [
    "# Create the vectors 'x_future_pred' and 'y_future_pred' on frames_df\n",
    "def make_predictions(frames_df, model_name):\n",
    "    # Prepare the DataFrame by adding all features\n",
    "    frames_df = add_all_features(frames_df, match_id=1)\n",
    "    \n",
    "    # Run the model and add the vectors 'x_future_pred' and 'y_future_pred'\n",
    "    frames_df = run_model([], model_name, frames_df)\n",
    "\n",
    "    # Calculate the error\n",
    "    error = total_error_loss(frames_df)\n",
    "    print(f\"Error: {error} m\")\n",
    "\n",
    "    # Define the file path\n",
    "    file_path = f\"models/{model_name}.txt\"\n",
    "    # if 'Testing results' does not exists in txt file\n",
    "    with open(file_path, 'r') as file:\n",
    "        if 'Testing results' not in file.read():\n",
    "            # Write the following with f.write\n",
    "            with open(file_path, 'a') as file:  # 'a' mode to append data\n",
    "                file.write(f\"\\nTesting results:\\ntest_loss: {error}\\n\")\n",
    "            print(\"Testing results added to the file.\")\n",
    "\n",
    "    return frames_df"
   ]
  },
  {
   "cell_type": "markdown",
   "id": "04d69186",
   "metadata": {},
   "source": [
    "## Example usage"
   ]
  },
  {
   "cell_type": "code",
   "execution_count": 22,
   "id": "33a0fe33",
   "metadata": {},
   "outputs": [
    {
     "name": "stdout",
     "output_type": "stream",
     "text": [
      "WARNING:tensorflow:Compiled the loaded model, but the compiled metrics have yet to be built. `model.compile_metrics` will be empty until you train or evaluate the model.\n",
      "270/270 [==============================] - 1s 927us/step\n",
      "Error: 2.213 m\n"
     ]
    }
   ],
   "source": [
    "# Example match\n",
    "_, test_ids, _ = split_match_ids(n_matches=10)\n",
    "test_id = test_ids[0]\n",
    "test_id = 'eaa1aee4-1acf-4a74-acdc-016343b231cc'\n",
    "\n",
    "# Load the unprocessed version of test_id\n",
    "file_path = f\"{DATA_LOCAL_FOLDER}/data/2023/Allsvenskan/unprocessed/{test_id}.parquet\"\n",
    "frames_df = pd.read_parquet(file_path).iloc[1000:35000]     # Load in 1 minute of unprocessed data\n",
    "\n",
    "# Make the prediction\n",
    "model_name = \"LSTM_model_v6\"\n",
    "frames_df = make_predictions(frames_df, model_name)"
   ]
  },
  {
   "cell_type": "code",
   "execution_count": 23,
   "id": "3506b3dc",
   "metadata": {},
   "outputs": [],
   "source": [
    "visualize_prediction_animation(frames_df, 800, 980, model_name)"
   ]
  }
 ],
 "metadata": {
  "kernelspec": {
   "display_name": "My Python",
   "language": "python",
   "name": "my_python"
  },
  "language_info": {
   "codemirror_mode": {
    "name": "ipython",
    "version": 3
   },
   "file_extension": ".py",
   "mimetype": "text/x-python",
   "name": "python",
   "nbconvert_exporter": "python",
   "pygments_lexer": "ipython3",
   "version": "3.10.4"
  }
 },
 "nbformat": 4,
 "nbformat_minor": 5
}
