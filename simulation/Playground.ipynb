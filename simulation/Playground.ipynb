{
 "cells": [
  {
   "cell_type": "markdown",
   "metadata": {},
   "source": [
    "# Playground for Exploring the Data"
   ]
  },
  {
   "cell_type": "markdown",
   "metadata": {},
   "source": [
    "### Import packages"
   ]
  },
  {
   "cell_type": "code",
   "execution_count": 1,
   "metadata": {},
   "outputs": [],
   "source": [
    "from sklearn.preprocessing import StandardScaler, OneHotEncoder\n",
    "from sklearn.model_selection import train_test_split\n",
    "from sklearn.compose import ColumnTransformer\n",
    "from sklearn.pipeline import Pipeline\n",
    "from collections import OrderedDict\n",
    "from datetime import datetime\n",
    "\n",
    "import pandas as pd\n",
    "import numpy as np\n",
    "import random\n",
    "import json\n",
    "import glob\n",
    "import os\n",
    "\n",
    "from settings import *"
   ]
  },
  {
   "cell_type": "markdown",
   "metadata": {},
   "source": [
    "## Load files"
   ]
  },
  {
   "cell_type": "code",
   "execution_count": 2,
   "metadata": {},
   "outputs": [],
   "source": [
    "# Load the processed/frames\n",
    "def load_all_processed_frames():\n",
    "    # Create DataFrame for storing all frames\n",
    "    frames_dfs = []\n",
    "    # Load frames_df\n",
    "    for selected_season in seasons:\n",
    "        for selected_competition in competitions:\n",
    "            # Define paths\n",
    "            DATA_FOLDER_PROCESSED = f\"{DATA_LOCAL_FOLDER}/data/{selected_season}/{selected_competition}/processed\"\n",
    "\n",
    "            # Find all frames parquet files\n",
    "            match_paths = glob.glob(os.path.join(DATA_FOLDER_PROCESSED, \"*.parquet\"))\n",
    "\n",
    "            # Extract IDs without the \".parquet\" extension\n",
    "            match_ids = [os.path.splitext(os.path.basename(path))[0] for path in match_paths][0:60]\n",
    "            # match_ids = ['49e6bfdf-abf3-499d-b60e-cf727c6523c1']\n",
    "\n",
    "            # For all matches\n",
    "            for match_id in match_ids:\n",
    "                # Convert parquet file to a DataFrame\n",
    "                file_path_match = f\"{DATA_FOLDER_PROCESSED}/{match_id}.parquet\"\n",
    "                frames_df = pd.read_parquet(file_path_match)\n",
    "                \n",
    "                # Append the DataFrame to frames_dfs\n",
    "                frames_dfs.append(frames_df)\n",
    "\n",
    "    return frames_dfs\n",
    "\n",
    "# Load every frames_df to a list\n",
    "frames_dfs = load_all_processed_frames()"
   ]
  },
  {
   "cell_type": "markdown",
   "metadata": {},
   "source": [
    "### Start Playing Around"
   ]
  },
  {
   "cell_type": "markdown",
   "metadata": {},
   "source": [
    "### Store as xlsx"
   ]
  },
  {
   "cell_type": "code",
   "execution_count": null,
   "metadata": {},
   "outputs": [],
   "source": [
    "# Store frames_df as xslx\n",
    "frames_df_head = frames_df.head(19979)\n",
    "\n",
    "# Specify the file path for the Excel file\n",
    "excel_file_path = f\"{DATA_LOCAL_FOLDER}/Brommapojkarna_vs_Sirius.xlsx\"\n",
    "\n",
    "# Write the DataFrame to an Excel file\n",
    "frames_df_head.to_excel(excel_file_path, index=False)\n",
    "\n",
    "print(f\"DataFrame saved to {excel_file_path}\")"
   ]
  },
  {
   "cell_type": "markdown",
   "metadata": {},
   "source": [
    "### Extract all unique player names"
   ]
  },
  {
   "cell_type": "code",
   "execution_count": 3,
   "metadata": {},
   "outputs": [
    {
     "data": {
      "text/html": [
       "<div>\n",
       "<style scoped>\n",
       "    .dataframe tbody tr th:only-of-type {\n",
       "        vertical-align: middle;\n",
       "    }\n",
       "\n",
       "    .dataframe tbody tr th {\n",
       "        vertical-align: top;\n",
       "    }\n",
       "\n",
       "    .dataframe thead th {\n",
       "        text-align: right;\n",
       "    }\n",
       "</style>\n",
       "<table border=\"1\" class=\"dataframe\">\n",
       "  <thead>\n",
       "    <tr style=\"text-align: right;\">\n",
       "      <th></th>\n",
       "      <th>Player</th>\n",
       "      <th>Team</th>\n",
       "    </tr>\n",
       "  </thead>\n",
       "  <tbody>\n",
       "    <tr>\n",
       "      <th>114</th>\n",
       "      <td>Abdelkarim Mammar Chaouche</td>\n",
       "      <td>Degerfors IF</td>\n",
       "    </tr>\n",
       "    <tr>\n",
       "      <th>176</th>\n",
       "      <td>Abdelrahman Boudah Saidi</td>\n",
       "      <td>Hammarby</td>\n",
       "    </tr>\n",
       "    <tr>\n",
       "      <th>411</th>\n",
       "      <td>Abdelrahman Saidi</td>\n",
       "      <td>Hammarby</td>\n",
       "    </tr>\n",
       "    <tr>\n",
       "      <th>96</th>\n",
       "      <td>Abdihakin Ali</td>\n",
       "      <td>AIK</td>\n",
       "    </tr>\n",
       "    <tr>\n",
       "      <th>145</th>\n",
       "      <td>Abdussalam Magashy</td>\n",
       "      <td>AIK</td>\n",
       "    </tr>\n",
       "    <tr>\n",
       "      <th>...</th>\n",
       "      <td>...</td>\n",
       "      <td>...</td>\n",
       "    </tr>\n",
       "    <tr>\n",
       "      <th>407</th>\n",
       "      <td>Yassine El Ouatki</td>\n",
       "      <td>Varbergs BoIS FC</td>\n",
       "    </tr>\n",
       "    <tr>\n",
       "      <th>390</th>\n",
       "      <td>Zachary Elbouzedi</td>\n",
       "      <td>AIK</td>\n",
       "    </tr>\n",
       "    <tr>\n",
       "      <th>243</th>\n",
       "      <td>Zeidane Inoussa</td>\n",
       "      <td>IF Brommapojkarna</td>\n",
       "    </tr>\n",
       "    <tr>\n",
       "      <th>165</th>\n",
       "      <td>ball</td>\n",
       "      <td>ball</td>\n",
       "    </tr>\n",
       "    <tr>\n",
       "      <th>286</th>\n",
       "      <td>Ömür Pektas</td>\n",
       "      <td>Varbergs BoIS FC</td>\n",
       "    </tr>\n",
       "  </tbody>\n",
       "</table>\n",
       "<p>420 rows × 2 columns</p>\n",
       "</div>"
      ],
      "text/plain": [
       "                         Player               Team\n",
       "114  Abdelkarim Mammar Chaouche       Degerfors IF\n",
       "176    Abdelrahman Boudah Saidi           Hammarby\n",
       "411           Abdelrahman Saidi           Hammarby\n",
       "96                Abdihakin Ali                AIK\n",
       "145          Abdussalam Magashy                AIK\n",
       "..                          ...                ...\n",
       "407           Yassine El Ouatki   Varbergs BoIS FC\n",
       "390           Zachary Elbouzedi                AIK\n",
       "243             Zeidane Inoussa  IF Brommapojkarna\n",
       "165                        ball               ball\n",
       "286                 Ömür Pektas   Varbergs BoIS FC\n",
       "\n",
       "[420 rows x 2 columns]"
      ]
     },
     "execution_count": 3,
     "metadata": {},
     "output_type": "execute_result"
    }
   ],
   "source": [
    "# Initialize a set to store unique player names along with their teams\n",
    "player_names = set()\n",
    "\n",
    "# Iterate through each game DataFrame\n",
    "for frames_df in frames_dfs:\n",
    "    # Extract unique player names and their teams\n",
    "    players = frames_df[['player', 'team_name']].drop_duplicates()\n",
    "    \n",
    "    # Update the set of unique player names\n",
    "    player_names.update(zip(players['player'], players['team_name']))\n",
    "\n",
    "# Convert to a DataFrame\n",
    "players_df = pd.DataFrame(list(player_names), columns=['Player', 'Team'])\n",
    "\n",
    "# Sort values\n",
    "players_df = players_df.sort_values(by=['Player', 'Team'], ascending=[True, True])\n",
    "\n",
    "# Store as xlsx\n",
    "players_df.to_excel(f\"{DATA_LOCAL_FOLDER}/data/players/Players_2023.xlsx\", index=False)\n",
    "\n",
    "players_df"
   ]
  },
  {
   "cell_type": "code",
   "execution_count": 6,
   "metadata": {},
   "outputs": [
    {
     "name": "stdout",
     "output_type": "stream",
     "text": [
      "13\n"
     ]
    }
   ],
   "source": [
    "# Initialize a set to store unique player names along with their teams\n",
    "roles = set()\n",
    "\n",
    "# Iterate through each game DataFrame\n",
    "for frames_df in frames_dfs:\n",
    "    # Extract unique player names and their teams\n",
    "    current_roles = frames_df['role'].unique()\n",
    "    \n",
    "    # Update the set of unique player names\n",
    "    roles.update(current_roles)\n",
    "\n",
    "# Convert to a DataFrame\n",
    "roles_df = pd.DataFrame(list(roles), columns=['Role'])\n",
    "\n",
    "# Sort values\n",
    "roles_df = roles_df.sort_values(by=['Role'], ascending=[True])\n",
    "\n",
    "# Store as xlsx\n",
    "# players_df.to_excel(f\"{DATA_LOCAL_FOLDER}/data/players/Players_2023.xlsx\", index=False)\n",
    "\n",
    "print(len(roles_df))"
   ]
  }
 ],
 "metadata": {
  "kernelspec": {
   "display_name": "My Python",
   "language": "python",
   "name": "my_python"
  },
  "language_info": {
   "codemirror_mode": {
    "name": "ipython",
    "version": 3
   },
   "file_extension": ".py",
   "mimetype": "text/x-python",
   "name": "python",
   "nbconvert_exporter": "python",
   "pygments_lexer": "ipython3",
   "version": "3.10.4 (main, Aug 14 2022, 22:57:54) [GCC 11.3.0]"
  },
  "orig_nbformat": 4,
  "vscode": {
   "interpreter": {
    "hash": "916dbcbb3f70747c44a77c7bcd40155683ae19c65e1c03b4aa3499c5328201f1"
   }
  }
 },
 "nbformat": 4,
 "nbformat_minor": 2
}
