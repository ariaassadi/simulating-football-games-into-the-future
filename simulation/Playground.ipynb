{
 "cells": [
  {
   "cell_type": "markdown",
   "metadata": {},
   "source": [
    "# Playground for Exploring the Data"
   ]
  },
  {
   "cell_type": "markdown",
   "metadata": {},
   "source": [
    "### Import packages"
   ]
  },
  {
   "cell_type": "code",
   "execution_count": null,
   "metadata": {},
   "outputs": [],
   "source": [
    "from collections import OrderedDict\n",
    "import json\n",
    "import glob\n",
    "import os\n",
    "\n",
    "from settings import * "
   ]
  },
  {
   "cell_type": "markdown",
   "metadata": {},
   "source": [
    "### Start Playing Around"
   ]
  },
  {
   "cell_type": "code",
   "execution_count": 13,
   "metadata": {},
   "outputs": [],
   "source": [
    "DATA_FOLDER_UNPROCESSED = f\"{DATA_LOCAL_FOLDER}/signality/2023/Allsvenskan/\"\n",
    "\n",
    "# Find all frames parquet files\n",
    "match_paths = glob.glob(os.path.join(DATA_FOLDER_UNPROCESSED, \"*.json\"))\n",
    "\n",
    "# Initialize a set to store unique team names\n",
    "unique_team_names = set()\n",
    "\n",
    "# Iterate over each JSON file\n",
    "for json_file in match_paths:\n",
    "    # Load JSON data\n",
    "    with open(json_file, 'r') as f:\n",
    "        data = json.load(f, object_pairs_hook=OrderedDict)\n",
    "\n",
    "    # Extract team_home_name\n",
    "    team_home_name = data.get('team_home_name')\n",
    "    \n",
    "    # Add team_home_name to the set of unique team names\n",
    "    if team_home_name:\n",
    "        unique_team_names.add(team_home_name)\n",
    "\n",
    "# Convert set to list for easier manipulation if needed\n",
    "unique_team_names_list = sorted(list(unique_team_names))\n",
    "\n",
    "# Print unique team names\n",
    "# [print(team) for team in unique_team_names_list]"
   ]
  },
  {
   "cell_type": "code",
   "execution_count": 11,
   "metadata": {},
   "outputs": [
    {
     "name": "stdout",
     "output_type": "stream",
     "text": [
      "Match ID where Utsikten was the home team: 98d877a9-0822-452a-bcac-93006226a84f\n"
     ]
    }
   ],
   "source": [
    "DATA_FOLDER_UNPROCESSED = f\"{DATA_LOCAL_FOLDER}/signality/2023/Allsvenskan/\"\n",
    "\n",
    "# Find all JSON files\n",
    "match_paths = glob.glob(os.path.join(DATA_FOLDER_UNPROCESSED, \"*.json\"))\n",
    "\n",
    "# Iterate over each JSON file\n",
    "for json_file in match_paths:\n",
    "    # Load JSON data\n",
    "    with open(json_file, 'r') as f:\n",
    "        data = json.load(f, object_pairs_hook=OrderedDict)\n",
    "\n",
    "    # Extract team_home_name and match ID\n",
    "    team_home_name = data.get('team_home_name')\n",
    "    match_id = data.get('id')\n",
    "    \n",
    "    # Check if Utsikten was the home team\n",
    "    if team_home_name == \"Utsikten\":\n",
    "        # Print match ID\n",
    "        print(\"Match ID where Utsikten was the home team:\", match_id)"
   ]
  },
  {
   "cell_type": "markdown",
   "metadata": {},
   "source": [
    "### Store as xlsx"
   ]
  },
  {
   "cell_type": "code",
   "execution_count": null,
   "metadata": {},
   "outputs": [],
   "source": [
    "# Store frames_df as xslx\n",
    "frames_df_head = frames_df.head(19979)\n",
    "\n",
    "# Specify the file path for the Excel file\n",
    "excel_file_path = f\"{DATA_LOCAL_FOLDER}/Brommapojkarna_vs_Sirius.xlsx\"\n",
    "\n",
    "# Write the DataFrame to an Excel file\n",
    "frames_df_head.to_excel(excel_file_path, index=False)\n",
    "\n",
    "print(f\"DataFrame saved to {excel_file_path}\")"
   ]
  }
 ],
 "metadata": {
  "kernelspec": {
   "display_name": "Python 3",
   "language": "python",
   "name": "python3"
  },
  "language_info": {
   "codemirror_mode": {
    "name": "ipython",
    "version": 3
   },
   "file_extension": ".py",
   "mimetype": "text/x-python",
   "name": "python",
   "nbconvert_exporter": "python",
   "pygments_lexer": "ipython3",
   "version": "3.6.8 (default, Jun 22 2023, 05:10:43) \n[GCC 8.5.0 20210514 (Red Hat 8.5.0-18)]"
  },
  "orig_nbformat": 4,
  "vscode": {
   "interpreter": {
    "hash": "916dbcbb3f70747c44a77c7bcd40155683ae19c65e1c03b4aa3499c5328201f1"
   }
  }
 },
 "nbformat": 4,
 "nbformat_minor": 2
}
