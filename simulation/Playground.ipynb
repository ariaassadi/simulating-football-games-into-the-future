{
 "cells": [
  {
   "cell_type": "markdown",
   "metadata": {},
   "source": [
    "# Playground for Exploring the Data"
   ]
  },
  {
   "cell_type": "markdown",
   "metadata": {},
   "source": [
    "### Import packages"
   ]
  },
  {
   "cell_type": "code",
   "execution_count": 21,
   "metadata": {},
   "outputs": [],
   "source": [
    "from sklearn.preprocessing import StandardScaler, OneHotEncoder\n",
    "from sklearn.model_selection import train_test_split\n",
    "from sklearn.compose import ColumnTransformer\n",
    "from sklearn.pipeline import Pipeline\n",
    "from collections import OrderedDict\n",
    "from datetime import datetime\n",
    "\n",
    "import pandas as pd\n",
    "import numpy as np\n",
    "import random\n",
    "import json\n",
    "import glob\n",
    "import os\n",
    "\n",
    "from utils import load_processed_frames, split_match_ids, prepare_LSTM_input_data\n",
    "from add_features import add_velocity_xy\n",
    "from settings import *"
   ]
  },
  {
   "cell_type": "markdown",
   "metadata": {},
   "source": [
    "## Load frames"
   ]
  },
  {
   "cell_type": "code",
   "execution_count": 22,
   "metadata": {},
   "outputs": [],
   "source": [
    "# Load the frames\n",
    "test_id = '2bc54dd0-f030-11ec-b6f2-f966be93d878'\n",
    "frames_df = load_processed_frames(match_id=test_id)[0]"
   ]
  },
  {
   "cell_type": "code",
   "execution_count": 23,
   "metadata": {},
   "outputs": [
    {
     "data": {
      "text/plain": [
       "Index(['team', 'team_name', 'team_direction', 'jersey_number', 'player',\n",
       "       'role', 'distance_ran', 'x', 'y', 'frame', 'minute', 'second', 'period',\n",
       "       'events', 'objects_tracked', 'v_x', 'v_y', 'a_x', 'a_y', 'orientation',\n",
       "       'ball_in_motion', 'distance_to_ball', 'angle_to_ball', 'offside',\n",
       "       'distance_to_onside', 'nationality', 'height', 'weight', 'acc', 'pac',\n",
       "       'sta', 'position', 'specific_position', 'tiredness', 'tiredness_short',\n",
       "       'x_future_25', 'y_future_25', 'x_future_50', 'y_future_50', 'x_future',\n",
       "       'y_future', 'x_future_75', 'y_future_75', 'match_id', 'v_x_avg',\n",
       "       'v_y_avg', 'age'],\n",
       "      dtype='object')"
      ]
     },
     "execution_count": 23,
     "metadata": {},
     "output_type": "execute_result"
    }
   ],
   "source": [
    "frames_df.columns"
   ]
  },
  {
   "cell_type": "markdown",
   "metadata": {},
   "source": [
    "## Start Playing Around"
   ]
  },
  {
   "cell_type": "markdown",
   "metadata": {},
   "source": [
    "### Store as xlsx"
   ]
  },
  {
   "cell_type": "code",
   "execution_count": null,
   "metadata": {},
   "outputs": [],
   "source": [
    "# Store frames_df as xslx\n",
    "frames_df_head = frames_df.head(19979)\n",
    "\n",
    "# Specify the file path for the Excel file\n",
    "excel_file_path = f\"{DATA_LOCAL_FOLDER}/Brommapojkarna_vs_Sirius.xlsx\"\n",
    "\n",
    "# Write the DataFrame to an Excel file\n",
    "frames_df_head.to_excel(excel_file_path, index=False)\n",
    "\n",
    "print(f\"DataFrame saved to {excel_file_path}\")"
   ]
  },
  {
   "cell_type": "markdown",
   "metadata": {},
   "source": [
    "### Extract all unique player names"
   ]
  },
  {
   "cell_type": "code",
   "execution_count": null,
   "metadata": {},
   "outputs": [],
   "source": [
    "# Initialize a set to store unique player names along with their teams\n",
    "player_names = set()\n",
    "\n",
    "# Split the match_ids and concatenate them into one list with all match_ids\n",
    "match_ids = sum(split_match_ids(560), [])\n",
    "\n",
    "# Iterate through each game\n",
    "for match_id in match_ids:\n",
    "    # Load the frames for the match\n",
    "    frames_list = load_processed_frames(match_id=match_id)\n",
    "    \n",
    "    # If we managed to load a DataFrame\n",
    "    if frames_list:\n",
    "        # Extract unique player names and their teams\n",
    "        players = frames_list[0][['player', 'team_name']].drop_duplicates()\n",
    "        \n",
    "        # Update the set of unique player names\n",
    "        player_names.update(zip(players['player'], players['team_name']))\n",
    "\n",
    "# Convert to a DataFrame\n",
    "players_df = pd.DataFrame(list(player_names), columns=['Player', 'Team'])\n",
    "\n",
    "# Sort values\n",
    "players_df = players_df.sort_values(by=['Player', 'Team'], ascending=[True, True])\n",
    "\n",
    "# Store as xlsx\n",
    "players_df.to_excel(f\"{DATA_LOCAL_FOLDER}/data/players/Signality_players.xlsx\", index=False)\n",
    "\n",
    "players_df"
   ]
  },
  {
   "cell_type": "markdown",
   "metadata": {},
   "source": [
    "### Only used buildup (this was never implemented)"
   ]
  },
  {
   "cell_type": "code",
   "execution_count": null,
   "metadata": {},
   "outputs": [],
   "source": [
    "# Read the file as a DataFrame\n",
    "build_up_events_df = pd.read_csv(f\"{DATA_LOCAL_FOLDER}/data/buildup_events_2023.csv\")\n",
    "build_up_df = pd.read_csv(f\"{DATA_LOCAL_FOLDER}/data/buildup_synced_2023.csv\")"
   ]
  },
  {
   "cell_type": "code",
   "execution_count": null,
   "metadata": {},
   "outputs": [],
   "source": [
    "# build_up_events_df.iloc[0:20]\n",
    "# for column in build_up_events_df.columns:\n",
    "#     print(column)\n",
    "possession_cols = [\n",
    "    'possession_set_piece_attack',\n",
    "    'possession_attack',\n",
    "    'possession_free_kick',\n",
    "    'possession_corner',\n",
    "    'possession_throw_in',\n",
    "    'possession_transition_low',\n",
    "    'possession_free_kick_cross',\n",
    "    'possession_transition_high',\n",
    "    'possession_transition_medium',\n",
    "    'possession_counterattack',\n",
    "    'possession_direct_free_kick',\n",
    "    'possession_penalty'\n",
    "]\n",
    "\n",
    "build_up_ev_ef = build_up_events_df.copy()\n",
    "\n",
    "build_up_ev_ef = build_up_ev_ef[build_up_ev_ef['first_event']]\n",
    "build_up_ev_ef['possession_duration']  = (np.floor(build_up_ev_ef['possession_duration'])).astype(int)\n",
    "build_up_ev_ef['match_time_event_start'] = build_up_ev_ef['match_time']\n",
    "build_up_ev_ef['match_time_event_end'] = build_up_ev_ef['match_time'] + build_up_ev_ef['possession_duration']\n",
    "build_up_ev_ef[['match_id', 'minute', 'second', 'match_time_event_start', 'match_time_event_end','possession_duration']]\n",
    "build_up_ev_ef = build_up_ev_ef[build_up_ev_ef['match_id'] == 5420660]\n",
    "build_up_ev_ef[possession_cols + ['minute', 'second', 'match_time_event_start', 'match_time_event_end','possession_duration']]"
   ]
  },
  {
   "cell_type": "code",
   "execution_count": null,
   "metadata": {},
   "outputs": [],
   "source": [
    "# Group by 'match_id' and sum 'possession_duration' for each group\n",
    "match_possession_duration = build_up_ev_ef.groupby('match_id')['possession_duration'].sum().reset_index()\n",
    "\n",
    "# Calculate the average possession duration\n",
    "average_possession_duration = match_possession_duration['possession_duration'].mean()\n",
    "\n",
    "# Display the average possession duration\n",
    "print(\"Average Possession Duration:\", average_possession_duration)"
   ]
  },
  {
   "cell_type": "markdown",
   "metadata": {},
   "source": [
    "### Use a smaller frames_df"
   ]
  },
  {
   "cell_type": "code",
   "execution_count": null,
   "metadata": {},
   "outputs": [],
   "source": [
    "small_df = frames_df\n",
    "small_df = small_df[small_df['frame'] % 5 == 0]\n",
    "small_df = small_df[small_df['team_name'] == 'Djurgården']\n",
    "small_df = small_df[small_df['position'] == 'Winger']\n",
    "small_df = small_df[small_df['player'] == 'Joel Asoro']"
   ]
  },
  {
   "cell_type": "markdown",
   "metadata": {},
   "source": [
    "## Usain Bolt\n",
    "Play around to see how often player hit Usian Bolt's speed"
   ]
  },
  {
   "cell_type": "code",
   "execution_count": null,
   "metadata": {},
   "outputs": [],
   "source": [
    "match_ids = sum(split_match_ids(560), [])\n",
    "usain_bolts_speed = 0\n",
    "denemonator = 0\n",
    "\n",
    "# Iterate through each game\n",
    "for match_id in match_ids:\n",
    "    # Load the frames for the match\n",
    "    frames_list = load_processed_frames(match_id=match_id)\n",
    "    \n",
    "    # If we managed to load a DataFrame\n",
    "    if frames_list:\n",
    "        # Add velocity without smoothing\n",
    "        frames_df = add_velocity_xy(frames_list[0], smooth=False)\n",
    "\n",
    "        frames_df['v_abs'] = np.sqrt(frames_df['v_x'] ** 2 + frames_df['v_y'] ** 2)\n",
    "\n",
    "        usain_bolts_speed += len(frames_df[frames_df['v_abs'] >= 13])\n",
    "        denemonator += 1"
   ]
  },
  {
   "cell_type": "markdown",
   "metadata": {},
   "source": [
    "### Missing FM data\n",
    "Find matches with missing FM data"
   ]
  },
  {
   "cell_type": "code",
   "execution_count": null,
   "metadata": {},
   "outputs": [],
   "source": [
    "match_ids = sum(split_match_ids(560), [])\n",
    "fm_columns = ['player', 'team', 'position', 'specific_position', 'nationality', 'height', 'weight', 'acc', 'pac', 'sta']\n",
    "ids_with_missing_data = []\n",
    "\n",
    "# Iterate through each game\n",
    "for match_id in match_ids:\n",
    "    # Load the frames for the match\n",
    "    frames_list = load_processed_frames(match_id=match_id)\n",
    "    \n",
    "    # If we managed to load a DataFrame\n",
    "    if frames_list:\n",
    "        # Add velocity without smoothing\n",
    "        frames_df = frames_list[0]\n",
    "\n",
    "        # Check for Null values in any of the fm_columns\n",
    "        if frames_df[fm_columns].isnull().any().any():\n",
    "            # Append the match_id if there are Null values\n",
    "            ids_with_missing_data.append(match_id)\n",
    "\n",
    "ids_with_missing_data"
   ]
  }
 ],
 "metadata": {
  "kernelspec": {
   "display_name": "My Python",
   "language": "python",
   "name": "my_python"
  },
  "language_info": {
   "codemirror_mode": {
    "name": "ipython",
    "version": 3
   },
   "file_extension": ".py",
   "mimetype": "text/x-python",
   "name": "python",
   "nbconvert_exporter": "python",
   "pygments_lexer": "ipython3",
   "version": "3.10.4"
  },
  "orig_nbformat": 4,
  "vscode": {
   "interpreter": {
    "hash": "916dbcbb3f70747c44a77c7bcd40155683ae19c65e1c03b4aa3499c5328201f1"
   }
  }
 },
 "nbformat": 4,
 "nbformat_minor": 2
}
