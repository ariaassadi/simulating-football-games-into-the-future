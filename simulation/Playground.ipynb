{
 "cells": [
  {
   "cell_type": "markdown",
   "metadata": {},
   "source": [
    "# Playground for Exploring the Data"
   ]
  },
  {
   "cell_type": "markdown",
   "metadata": {},
   "source": [
    "### Import packages"
   ]
  },
  {
   "cell_type": "code",
   "execution_count": 2,
   "metadata": {},
   "outputs": [],
   "source": [
    "from sklearn.preprocessing import StandardScaler, OneHotEncoder\n",
    "from sklearn.model_selection import train_test_split\n",
    "from sklearn.compose import ColumnTransformer\n",
    "from sklearn.pipeline import Pipeline\n",
    "from collections import OrderedDict\n",
    "from datetime import datetime\n",
    "\n",
    "import pandas as pd\n",
    "import numpy as np\n",
    "import random\n",
    "import json\n",
    "import glob\n",
    "import os\n",
    "\n",
    "from settings import *"
   ]
  },
  {
   "cell_type": "markdown",
   "metadata": {},
   "source": [
    "### Start Playing Around"
   ]
  },
  {
   "cell_type": "markdown",
   "metadata": {},
   "source": [
    "### Gameweek and match info creator"
   ]
  },
  {
   "cell_type": "code",
   "execution_count": 38,
   "metadata": {},
   "outputs": [],
   "source": [
    "# Define Allsvenskan schedule for the 2023 season\n",
    "allsvenskan_schedule_2022 = {\n",
    "    '1': (datetime(2022, 4, 2,), datetime(2022, 4, 5,)),\n",
    "    '2': (datetime(2022, 4, 9,), datetime(2022, 4, 12,)),\n",
    "    '3': (datetime(2022, 4, 15,), datetime(2022, 4, 18,)),\n",
    "    '4': (datetime(2022, 4, 20,), datetime(2022, 4, 22,)),\n",
    "    '5': (datetime(2022, 4, 24,), datetime(2022, 4, 27,)),\n",
    "    '6': (datetime(2022, 4, 30,), datetime(2022, 5, 2,)),\n",
    "    '7': (datetime(2022, 5, 7,), datetime(2022, 5, 10,)),\n",
    "    '8': (datetime(2022, 5, 14,), datetime(2022, 5, 17,)),\n",
    "    '9': (datetime(2022, 5, 21,), datetime(2022, 5, 24,)),\n",
    "    '10': (datetime(2022, 5, 28,), datetime(2022, 5, 30,)),\n",
    "    '11': (datetime(2022, 6, 26,), datetime(2022, 6, 28,)),\n",
    "    '12': (datetime(2022, 7, 1,), datetime(2022, 7, 4,)),\n",
    "    '13': (datetime(2022, 7, 9,), datetime(2022, 7, 12,)),\n",
    "    '14': (datetime(2022, 7, 16,), datetime(2022, 7, 19,)),\n",
    "    '15': (datetime(2022, 7, 23,), datetime(2022, 7, 26,)),\n",
    "    '16': (datetime(2022, 5, 5,), datetime(2022, 8, 2,)), # Special gameweek\n",
    "    '17': (datetime(2022, 8, 6,), datetime(2022, 8, 9,)),\n",
    "    '18': (datetime(2022, 8, 13), datetime(2022, 8, 16)),\n",
    "    '19': (datetime(2022, 8, 20,), datetime(2022, 8, 23,)),\n",
    "    '20': (datetime(2022, 8, 27,), datetime(2022, 8, 30,)),\n",
    "    '21': (datetime(2022, 9, 4,), datetime(2022, 9, 6,)),\n",
    "    '22': (datetime(2022, 9, 10,), datetime(2022, 9, 13,)),\n",
    "    '23': (datetime(2022, 9, 17,), datetime(2022, 9, 19,)),\n",
    "    '24': (datetime(2022, 10, 1,), datetime(2022, 10, 4,)),\n",
    "    '25': (datetime(2022, 10, 8,), datetime(2022, 10, 11,)),\n",
    "    '26': (datetime(2022, 10, 14,), datetime(2022, 10, 17,)),\n",
    "    '27': (datetime(2022, 10, 19,), datetime(2022, 10, 21,)),\n",
    "    '28': (datetime(2022, 10, 23,), datetime(2022, 10, 25,)),\n",
    "    '29': (datetime(2022, 10, 29,), datetime(2022, 11, 1,)),\n",
    "    '30': (datetime(2022, 11, 6,), datetime(2022, 11, 7,))\n",
    "  }\n",
    "\n",
    "# Define Allsvenskan schedule for the 2023 season\n",
    "allsvenskan_schedule_2023 = {\n",
    "    '1': (datetime(2023, 4, 1,), datetime(2023, 4, 7,)),\n",
    "    '2': (datetime(2023, 4, 8,), datetime(2023, 4, 14,)),\n",
    "    '3': (datetime(2023, 4, 15,), datetime(2023, 4, 21,)),\n",
    "    '4': (datetime(2023, 4, 22,), datetime(2023, 4, 28,)),\n",
    "    '5': (datetime(2023, 4, 29,), datetime(2023, 5, 2,)),\n",
    "    '6': (datetime(2023, 5, 3,), datetime(2023, 5, 6,)),\n",
    "    '7': (datetime(2023, 5, 7,), datetime(2023, 5, 12,)),\n",
    "    '8': (datetime(2023, 5, 13,), datetime(2023, 5, 16,)),\n",
    "    '9': (datetime(2023, 5, 20,), datetime(2023, 5, 23,)),\n",
    "    '10': (datetime(2023, 5, 27,), datetime(2023, 6, 2,)),\n",
    "    '11': (datetime(2023, 6, 3,), datetime(2023, 6, 8,)),\n",
    "    '12': (datetime(2023, 6, 9,), datetime(2023, 6, 12,)),\n",
    "    '13': (datetime(2023, 7, 1,), datetime(2023, 7, 7,)),\n",
    "    '14': (datetime(2023, 7, 8,), datetime(2023, 7, 14,)),\n",
    "    '15': (datetime(2023, 7, 15,), datetime(2023, 7, 20,)),\n",
    "    '16': (datetime(2023, 7, 21,), datetime(2023, 7, 28,)),\n",
    "    '17': (datetime(2023, 7, 29,), datetime(2023, 7, 31,)),\n",
    "    '18': (datetime(2023, 5, 24), datetime(2023, 8, 8)), # Special gameweek\n",
    "    '19': (datetime(2023, 8, 12,), datetime(2023, 8, 15,)),\n",
    "    '20': (datetime(2023, 8, 19,), datetime(2023, 8, 22,)),\n",
    "    '21': (datetime(2023, 8, 27,), datetime(2023, 8, 29,)),\n",
    "    '22': (datetime(2023, 9, 2,), datetime(2023, 9, 4,)),\n",
    "    '23': (datetime(2023, 9, 16,), datetime(2023, 9, 19,)),\n",
    "    '24': (datetime(2023, 9, 23,), datetime(2023, 9, 26,)),\n",
    "    '25': (datetime(2023, 9, 30,), datetime(2023, 10, 3,)),\n",
    "    '26': (datetime(2023, 10, 7,), datetime(2023, 10, 9,)),\n",
    "    '27': (datetime(2023, 10, 21,), datetime(2023, 10, 24,)),\n",
    "    '28': (datetime(2023, 10, 28,), datetime(2023, 10, 31,)),\n",
    "    '29': (datetime(2023, 11, 4,), datetime(2023, 11, 7,)),\n",
    "    '30': (datetime(2023, 11, 12,), datetime(2023, 11, 13,))\n",
    "  }"
   ]
  },
  {
   "cell_type": "code",
   "execution_count": 39,
   "metadata": {},
   "outputs": [],
   "source": [
    "# Construct a dictionary to map each year to the correct schedule\n",
    "allsvenskan_schedule = {\n",
    "    2022: allsvenskan_schedule_2022,\n",
    "    2023: allsvenskan_schedule_2023\n",
    "}\n",
    "\n",
    "# Function to determine gameweek\n",
    "def get_gameweek(match_date, year):\n",
    "    schedule = allsvenskan_schedule[year]\n",
    "    for gameweek, (start_date, end_date) in schedule.items():\n",
    "        if start_date <= match_date <= end_date:\n",
    "            return gameweek\n",
    "    return match_date"
   ]
  },
  {
   "cell_type": "code",
   "execution_count": 48,
   "metadata": {},
   "outputs": [],
   "source": [
    "seasons = [2023]\n",
    "competitions = ['Allsvenskan']\n",
    "\n",
    "# Store a parquet file with match info for each season in each competition\n",
    "for selected_season in seasons:\n",
    "    for selected_competition in competitions:\n",
    "        DATA_FOLDER_UNPROCESSED = f\"{DATA_LOCAL_FOLDER}/signality/{selected_season}/{selected_competition}/\"\n",
    "        OUTPUT_FOLDER = f\"{DATA_LOCAL_FOLDER}/data/match_info/\"\n",
    "\n",
    "        # Define lists to store the extracted data\n",
    "        match_ids = []\n",
    "        team_home_names = []\n",
    "        team_away_names = []\n",
    "        utc_time = []\n",
    "        gameweeks = []\n",
    "\n",
    "        # Find all frames parquet files\n",
    "        match_paths = glob.glob(os.path.join(DATA_FOLDER_UNPROCESSED, \"*.json\"))\n",
    "\n",
    "        # Iterate over each JSON file\n",
    "        for json_file in match_paths:\n",
    "            # Load JSON data\n",
    "            with open(json_file, 'r') as f:\n",
    "                data = json.load(f, object_pairs_hook=OrderedDict)\n",
    "\n",
    "            # Find the gameweek\n",
    "            match_date_str = data.get('time_start').split('T')[0]\n",
    "            match_date = datetime.strptime(match_date_str, '%Y-%m-%d')\n",
    "            gameweek = get_gameweek(match_date, selected_season)\n",
    "\n",
    "            # Append results if the competition is correct\n",
    "            if data.get('competition') == selected_competition:\n",
    "                # Append the relevant match info\n",
    "                match_ids.append(data.get('id'))\n",
    "                team_home_names.append(data.get('team_home_name'))\n",
    "                team_away_names.append(data.get('team_away_name'))\n",
    "                utc_time.append(match_date_str)\n",
    "                gameweeks.append(gameweek)\n",
    "\n",
    "        # Create a DataFrame from the lists\n",
    "        match_data_df = pd.DataFrame({\n",
    "            'match_ID': match_ids,\n",
    "            'team_home_name': team_home_names,\n",
    "            'team_away_name': team_away_names,\n",
    "            'utc_time': utc_time,\n",
    "            'gameweek': gameweeks\n",
    "        })\n",
    "        \n",
    "        # Convert all columns to the correct type\n",
    "        match_data_df[['gameweek']] =  match_data_df[['gameweek']].astype('int8')\n",
    "        match_data_df[['match_ID', 'team_home_name', 'team_away_name', 'utc_time']] =  match_data_df[['match_ID', 'team_home_name', 'team_away_name', 'utc_time']].astype(str)\n",
    "\n",
    "        # Sort the DataFrame by 'UTC_time'\n",
    "        match_data_df = match_data_df.sort_values(by=['gameweek', 'utc_time'], ascending=[True, True])\n",
    "\n",
    "        # Define the output file path\n",
    "        output_file_path = os.path.join(OUTPUT_FOLDER, f\"match_info_{selected_season}_{selected_competition}.parquet\")\n",
    "\n",
    "        # Convert the DataFrame to an parquet file\n",
    "        match_data_df.reset_index(drop=True)\n",
    "        match_data_df.to_parquet(output_file_path)"
   ]
  },
  {
   "cell_type": "markdown",
   "metadata": {},
   "source": [
    "### Store as xlsx"
   ]
  },
  {
   "cell_type": "code",
   "execution_count": null,
   "metadata": {},
   "outputs": [],
   "source": [
    "# Store frames_df as xslx\n",
    "frames_df_head = frames_df.head(19979)\n",
    "\n",
    "# Specify the file path for the Excel file\n",
    "excel_file_path = f\"{DATA_LOCAL_FOLDER}/Brommapojkarna_vs_Sirius.xlsx\"\n",
    "\n",
    "# Write the DataFrame to an Excel file\n",
    "frames_df_head.to_excel(excel_file_path, index=False)\n",
    "\n",
    "print(f\"DataFrame saved to {excel_file_path}\")"
   ]
  },
  {
   "cell_type": "markdown",
   "metadata": {},
   "source": [
    "## Load files"
   ]
  },
  {
   "cell_type": "code",
   "execution_count": 3,
   "metadata": {},
   "outputs": [],
   "source": [
    "# Load the processed/frames\n",
    "def load_all_processed_frames():\n",
    "    # Create DataFrame for storing all frames\n",
    "    frames_dfs = []\n",
    "    # Load frames_df\n",
    "    for selected_season in seasons:\n",
    "        for selected_competition in competitions:\n",
    "            # Define paths\n",
    "            DATA_FOLDER_PROCESSED = f\"{DATA_LOCAL_FOLDER}/data/{selected_season}/{selected_competition}/processed\"\n",
    "\n",
    "            # Find all frames parquet files\n",
    "            match_paths = glob.glob(os.path.join(DATA_FOLDER_PROCESSED, \"*.parquet\"))\n",
    "\n",
    "            # Extract IDs without the \".parquet\" extension\n",
    "            match_ids = [os.path.splitext(os.path.basename(path))[0] for path in match_paths][0:60]\n",
    "            # match_ids = ['49e6bfdf-abf3-499d-b60e-cf727c6523c1']\n",
    "\n",
    "            # For all matches\n",
    "            for match_id in match_ids:\n",
    "                # Convert parquet file to a DataFrame\n",
    "                file_path_match = f\"{DATA_FOLDER_PROCESSED}/{match_id}.parquet\"\n",
    "                frames_df = pd.read_parquet(file_path_match)\n",
    "                \n",
    "                # Append the DataFrame to frames_dfs\n",
    "                frames_dfs.append(frames_df)\n",
    "\n",
    "    return frames_dfs\n",
    "\n",
    "# Load every frames_df to a list\n",
    "frames_dfs = load_all_processed_frames()"
   ]
  },
  {
   "cell_type": "markdown",
   "metadata": {},
   "source": [
    "### Extract all unique player names"
   ]
  },
  {
   "cell_type": "code",
   "execution_count": null,
   "metadata": {},
   "outputs": [],
   "source": [
    "# Initialize a set to store unique player names along with their teams\n",
    "player_names = set()\n",
    "\n",
    "# Iterate through each game DataFrame\n",
    "for frames_df in frames_dfs:\n",
    "    # Extract unique player names and their teams\n",
    "    players = frames_df[['player', 'team_name']].drop_duplicates()\n",
    "    \n",
    "    # Update the set of unique player names\n",
    "    player_names.update(zip(players['player'], players['team_name']))"
   ]
  }
 ],
 "metadata": {
  "kernelspec": {
   "display_name": "My Python",
   "language": "python",
   "name": "my_python"
  },
  "language_info": {
   "codemirror_mode": {
    "name": "ipython",
    "version": 3
   },
   "file_extension": ".py",
   "mimetype": "text/x-python",
   "name": "python",
   "nbconvert_exporter": "python",
   "pygments_lexer": "ipython3",
   "version": "3.10.4"
  },
  "orig_nbformat": 4,
  "vscode": {
   "interpreter": {
    "hash": "916dbcbb3f70747c44a77c7bcd40155683ae19c65e1c03b4aa3499c5328201f1"
   }
  }
 },
 "nbformat": 4,
 "nbformat_minor": 2
}
